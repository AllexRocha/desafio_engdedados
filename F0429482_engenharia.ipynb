{
  "metadata": {
    "kernelspec": {
      "name": "python",
      "display_name": "Python (Pyodide)",
      "language": "python"
    },
    "language_info": {
      "codemirror_mode": {
        "name": "python",
        "version": 3
      },
      "file_extension": ".py",
      "mimetype": "text/x-python",
      "name": "python",
      "nbconvert_exporter": "python",
      "pygments_lexer": "ipython3",
      "version": "3.8"
    }
  },
  "nbformat_minor": 5,
  "nbformat": 4,
  "cells": [
    {
      "id": "12c66376-3398-4026-a393-14779d9808bd",
      "cell_type": "markdown",
      "source": "# Identificação do participante\n\nPreencha a célula abaixo com sua matrícula no formato F + 7 algarismos, sem dígito verificador.\n\nExemplo:\n\n    chaveF = \"F1234567\"",
      "metadata": {}
    },
    {
      "id": "b08cd02a-a955-46a3-ba14-3022c52f5db5",
      "cell_type": "code",
      "source": "chaveF = \"F0429482\"",
      "metadata": {
        "tags": [],
        "trusted": true
      },
      "outputs": [],
      "execution_count": 1
    },
    {
      "id": "cb711518-fbff-4a4d-97db-9379e9a80acf",
      "cell_type": "markdown",
      "source": "# Desafio Engenharia de Dados\n\nA Dipes precisa fazer o acompanhamento do cumprimento dos indicadores de algumas Unidades Estratégicas e solicitou à UAN o desenvolvimento de um dashboard. Os colegas da equipe de Dataviz identificaram a necessidade de <b>disponibilização de algumas bases de dados</b> para desenvolvimento do dashboard, principalmente para o acompanhamento das <b>Trilhas de Capacitação</b> das Unidades Estratégicas:\n\n|PREFIXO|SIGLA|\n|---|---|\n|8008|DIREC|\n|8556|DICRE|\n|8559|DIPES|\n|8593|DIGOV|\n|9797|UCI|\n|9880|DIMEP|\n|9968|UAN|\n|9973|DIEMP|\n\nA equipe de Engenharia de Dados foi então acionada para preparação das bases de dados conforme abaixo detalhado.\n\n<b>Dados essenciais:</b>\n- acompanhamento do cumprimento do indicador de capacitação por matrícula dos funcionários das Diretorias alvo da análise\n- acompanhamento do cumprimento por UOR das Unidades Estratégicas, contendo a Vice-Presidência jurisdicionante\n\nAlém disso, a equipe de Dataviz solicitou que a equipe de engenharia reunisse algumas informações úteis para análise e levantamento de insights, tais como:\n- dados de função, escolaridade, idade, tempo de banco e estado civil de cada funcionário das dependências citadas.\n- detalhamentos sobre a área dos cursos que os funcionários concluíram nos últimos 3 anos para identificação do perfil.",
      "metadata": {}
    },
    {
      "id": "6ecac00e-cfb2-4265-a22c-d16134d44987",
      "cell_type": "markdown",
      "source": "# Orientações Gerais:\n\n1) Inclua sua matrícula na seção de Identificação, no início deste Notebook.\n\n2) **Link para envio das soluções:**\n\n- https://envio-academiabb.bb.com.br/\n\n    - **Atenção:** não serão acatadas outras formas de envio. O link acima permite acesso com senha de portais externos.\n\n3) Selecione a Trilha Engenharia ao enviar.\n\n**Nome do arquivo:** cada participante deverá baixar o presente arquivo e renomeá-lo de modo a conter:\n\n- A matrícula com F maiúsculo, sete algarismos e sem dígito (FXXXXXXX)\n\n- A trilha a qual a entrega se refere em letras minúsculas: engenharia\n\n- O nome não deve conter espaços em branco. Substitua-os por “_”.\n\n- O versionamento será gerado automaticamente na subida do arquivo, por meio do timestamp do envio.\n\n    - Exemplo1: F1234567_engenharia.ipynb\n\n    - Exemplo2: F1234567_engenharia_v3.ipynb\n\n**Formato:** .ipynb\n\n- **Atenção:** não carregar nenhum outro formato de arquivo, pois será ignorado\n\n**Prazo final:** até às 18h (horário de Brasília) do dia 20/09/2024.\n\n## Requerimentos de versões\n\nPara construção do desafio em qualquer ambiente diferente do [labblite](https://labblite.bb.com.br/), deverão ser utilizadas as versões de biblioteca abaixo especificadas:\n\n|Biblioteca|Versão|\n|---|---|\n|pandas|1.5.2 ou inferior|\n|numpy|1.23.5 ou inferior|\n|unidecode|1.3.8 ou inferior|\n|pathlib|sem indicativo de versão|\n|glob|sem indicativo de versão|\n\nEssas versões são padrão no labblite, e você pode checar após importação da biblioteca por meio da instrução:\n    \n    print(nome_biblioteca. __version__)\n\nCaso identifique a necessidade de utilização de alguma biblioteca diferente das listadas acima, entre em contato com a comissão organizadora para verificar a possibilidade de utilização no script, sob o risco de gerar erros durante a validação.\n\n## Pode:\n\n- Inserir células no notebook.\n\n    Obs: as células adicionadas após a seção do Boletim de Soluções não surtirão efeitos para fins de validação dos resultados dos exercícios propostos.\n\n- Fazer vários envios (tantos quantos forem necessários).\n\n- Nas máquinas do Banco, desenvolver na plataforma [Labblite](https://labblite.bb.com.br/)\n\n- O participante que optar por desenvolver no computador pessoal, poderá utilizar qualquer plataforma que permita a execução de scripts em Python, desde que atente para as versões das bibliotecas mencionadas na seção \"Requerimentos de versões\" acima especificada.\n    \n    Atenção: consulte as versões homologadas pelo Banco no aplicativo <b>BB Verifica Software</b> antes de instalar qualquer aplicativo nas máquinas corporativas.\n\n## Não pode:\n\n- Compartilhar arquivos/código, sob pena de desclassificação de todas as partes envolvidas.\n\n- Alterar as bases de dados disponibilizadas. Os itens contidos na pasta “bases” devem permanecer inalterados quanto a:\n    - Nome e tipo dos arquivos/pastas\n    - Conteúdo\n    - Estrutura das pastas iniciando em “bases”\n\n- Descompactar os arquivos correspondentes às bases de dados. Os arquivos disponibilizados no formato .zip deverão ser lidos nesse mesmo formato.\n\n- Gerar arquivos de qualquer formato durante a execução, com exceção daqueles gerados pelo Boletim de Soluções.\n\n- Utilizar outros arquivos além dos disponibilizados no pacote do desafio do Eixo Temático Engenharia de Dados.\n\n- Excluir ou alterar linhas do Boletim de Soluções (exceto quando explicitamente orientado pela comissão organizadora do Programa).\n\n- Apresentar erros no código no momento da validação.\n\n- O tempo total de execução do notebook não poderá exceder 2 minutos. \n\n- Importar bibliotecas no código enviado para validação. Caso necessite instalar bibliotecas durante o desenvolvimento da solução, as linhas deverão ser comentadas antes do envio, sob o risco de apresentar erros ou exceder o tempo de execução do notebook durante a validação dos exercícios.\n    \n    *Atenção:* as bibliotecas mapeadas estarão previamente instaladas no ambiente de execução da solução validadora. Caso identifique a necessidade de utilizar alguma biblioteca diferente das mencionadas na seção \"Requerimentos de versões\", entre em contato com a comissão organizadora para verificar a viabilidade de utilização.\n\n## Geras para o Nome Físico das colunas\n\n- Observe atentamente a documentação constante no enunciado de cada exercício, para evitar apontamentos nas verificações.\n\n- A ordem dos atributos deverá ser obedecida na construção dos DataFrames.\n\n- A nomenclatura de todos os campos dos DataFrames deverá seguir o padrão de nomenclatura do Banco, conforme consulta disponível no Glossário.\n\n- O nome físico não deve conter espaços, devendo as abreviações ser separadas por “_”. \n\n- Todas as palavras do Nome Lógico deverão ser abreviadas, com exceção apenas das preposições (ex.: de, com, para, até, etc.).\n\n- Ao consultar o Glossário, é importante atentar para a existência de palavras compostas, que devem ser abreviadas juntas.\n\n## Demais recomendações/Orientações\n\n- Leia atentamente o enunciado dos exercícios. Eventuais cálculos, formatações, filtros, transformações ou arredondamentos dos dados serão detalhados na descrição de cada atributo.\n\n- Verifique o indicativo de nível de dificuldade e de ordem de solução dos exercícios, pois alguns têm como requisito a conclusão de algum exercício anterior na íntegra.\n\n- Não se esqueça de salvar seu projeto! Sugerimos fazer vários versionamentos dos arquivos, para não correr riscos de perder alterações e para ter um backup, caso algo não saia como o planejado.\n\n- Não se assuste com os apontamentos de erros durante o desenvolvimento dos exercícios. Observe as orientações e dicas para solucioná-los com maior assertividade.\n\n- Ao fazer junção de tabelas, não se esqueça de conferir as quantidades de linhas e colunas das tabelas originais e tenha sempre em mente o seu objetivo antes de escolher o método de junção (interna, esquerda, direita ou total).\n\n- Ao copiar variáveis, utilize preferencialmente o método copy() para evitar corromper as variáveis que serão utilizadas para conferência dos exercícios.\n\n- Faça envios parciais, tantos quanto for necessário. Não há limite de quantidade de envios. O ideal é submeter seu notebook a cada exercício concluído, para evitar acúmulo de apontamentos na validação. \n\n- Execute o Notebook na íntegra antes de efetuar seus envios para testar o tempo de execução e a ocorrência de erros, mesmo que ainda não tenha finalizado todos os exercícios.\n\n- Utilize o Boletim de Soluções ao final do Notebook Modelo para checar a existência das variáveis de cada exercício. Não se esqueça de informar a sua chave F (chaveF) na seção de Identificação. \n\n- Após execução na íntegra do seu notebook, visualize suas variáveis finais, aquelas que serão utilizadas para correção dos exercícios, para chegar eventuais alterações indesejadas nas variáveis. Exemplo:\n    \n        exercicio1.info()\n        exercicio2.info()\n\n\n**Atenção:** encorajamos a colaboração entre os participantes, porém sempre no sentido de ajudar os demais a chegarem à resposta, nunca respondendo diretamente às perguntas ou compartilhando os arquivos/código. ",
      "metadata": {
        "jp-MarkdownHeadingCollapsed": true,
        "tags": []
      }
    },
    {
      "id": "5b670427-6706-4282-aeb2-bf3bb7a148a9",
      "cell_type": "markdown",
      "source": "# Importar bibliotecas\n\nUse esse espaço para importar as bibliotecas necessárias para execução do seu notebook.\n\nLembrando que eventuais instalações de bibliotecas durante o desenvolvimento deverão ser retiradas ou comentadas antes do envio.",
      "metadata": {
        "tags": []
      }
    },
    {
      "id": "2ff68ebe-4639-4157-a3ee-23697430471c",
      "cell_type": "code",
      "source": "# Atenção, somente descomente as células abaixo caso não esteja desenvolvendo no labblite\n# após instalação, comente novamente as células\n\n!pip3 install --force-reinstall --user pandas==1.5.2\n!pip3 install --force-reinstall --user numpy==1.23.5\n!pip3 install --force-reinstall --user unidecode==1.3.8 ",
      "metadata": {
        "trusted": true
      },
      "outputs": [],
      "execution_count": null
    },
    {
      "id": "0451d52b-b87e-4b7a-8e1f-a2e02d52ead3",
      "cell_type": "code",
      "source": "# as celulas abaixo referem-se a instalação e importação de bibliotecas para desenvolvimento da solução\n# favor não alterar esta célula sem antes consultar a comissão organizadora\n\ntry:\n    import micropip \n    await micropip.install('pandas')\n    import pandas as pd\n    await micropip.install('unidecode')\n    from unidecode import unidecode\n    await micropip.install('numpy')\n    import numpy as np\n    import warnings\n    warnings.filterwarnings(\"ignore\")\n    from pathlib import Path\n    import glob\n    \n    mensagem = \"Importações de bibliotecas executadas com sucesso\"\nexcept:\n    try:\n        import pandas as pd\n        from unidecode import unidecode\n        import numpy as np\n        import warnings\n        warnings.filterwarnings(\"ignore\")\n        from pathlib import Path\n        import glob\n\n        mensagem = \"Importações de bibliotecas executadas com sucesso\"\n    except Exception as e:\n        mensagem = f\"{e.args[0]} \\nImportações de bibliotecas não executada\"\nfinally:\n    print(mensagem)",
      "metadata": {
        "trusted": true
      },
      "outputs": [
        {
          "name": "stdout",
          "text": "Importações de bibliotecas executadas com sucesso\n",
          "output_type": "stream"
        }
      ],
      "execution_count": 2
    },
    {
      "id": "c7e43ed0-b939-4458-ab6e-57f6b75abebf",
      "cell_type": "markdown",
      "source": "# Exercício 1 - Tabela de Vínculo entre as Unidades Organizacionais\n\n<b>Nível de dificuldade:</b> 1\n\n<b>Ordem:</b> qualquer\n\nCriar um DataFrame Pandas chamado <b>exercicio1</b> com a tabela que contém o vínculo entre as UORs do Banco.\n\nNa tabela abaixo especificamos as <b>informações descritivas</b> (nome, formato dos dados, etc.) dos atributos (colunas) que deverão constar no dataframe resultante:\n\n||Nome Lógico|Nome Físico|Formato|Descrição|Aceita Nulos|Tabela Origem|Atributo Origem|\n|---|---|---|---|---|---|---|---|\n|1|Código da Unidade Organizacional Vinculada|CD_UOR_VCLD|Int64|Código identificador de Unidade Organizacional (UOR) vinculada ou JURISDICIONADA.|N|VCL_UOR|CD_UOR_VCLD\n|2|Código do Tipo de Vínculo|CD_TIP_VCL|Int64|Código identificador do Tipo de Vínculo ou JURISDIÇÃO utilizado para a vinculação entre Unidades Organizacionais.|N|VCL_UOR|CD_TIP_VCL\n|3|Código da Unidade Organizacional Vinculadora|CD_UOR_VCLR|Int64|Código identificador da Unidade Organizacional vinculadora ou JURISDICIONANTE, conforme determinado Tipo de Vínculo ou jurisdição.|N|VCL_UOR|CD_UOR_VCLR\n|4|Número do Intervalo de Nível Hierárquico|NR_ITVL_NVL_HRQO|Int64|Representa o intervalo de nível hierárquico entre a UOR Vinculada e a UOR Vinculadora. A partir deste atributo, é possível saber quantos níveis acima ou abaixo encontra-se uma UOR Vinculadora em relação à UOR Vinculada.|S|VCL_UOR|NR_ITVL_NVL_HRQO\n\nAo final do exerício, o resultado da consulta do cabeçado (<b>.head()</b>) do dataframe exercicio1 deverá seguir a estrutura abaixo exemplificada:\n\n- código a ser executado:\n\n\n    <i>exercicio1.head()</i>\n\n- exemplo de resultado do código acima com valores fictícios:\n\n||CD_UOR_VCLD|CD_TIP_VCL|CD_UOR_VCL|NR_ITVL_NVL_HRQO|\n|---|---|---|---|---|\n|0|9999|99|1111|&lt;NA&gt;|\n|1|9999|101|2222|&lt;NA&gt;|\n|2|9999|1100|3333|&lt;NA&gt;|\n|3|9999|1200|4444|&lt;NA&gt;|\n|34|9999|1220|5555|&lt;NA&gt;|\n\n   \n<b>Regra:</b> a ordem das colunas deverá obedecer à ordem da tabela de informações descritivas constante do enunciado.\n\n<b>Dica 1:</b> verifique o <b>Vocabulário de Termos</b> anexo para saber mais sobre o termo <b>&lt;NA&gt;</b> e o tipo <b>Int64</b>.\n\n<b>Dica 2:</b> os registros nulos somente deverão ser tratados quando expressamente orientado no enunciado do exercício.",
      "metadata": {
        "tags": []
      }
    },
    {
      "id": "4cc3e85a-2819-4351-8db2-7619f0c23f10",
      "cell_type": "code",
      "source": "exercicio1 = pd.read_csv('bases/VCL_UOR.csv', sep=\";\")",
      "metadata": {
        "trusted": true
      },
      "outputs": [],
      "execution_count": 2
    },
    {
      "id": "de149e82",
      "cell_type": "code",
      "source": "# Garantir que os tipos de dados estejam corretos\nexercicio1['CD_UOR_VCLD'] = exercicio1['CD_UOR_VCLD'].astype('Int64')\nexercicio1['CD_TIP_VCL'] = exercicio1['CD_TIP_VCL'].astype('Int64')\nexercicio1['CD_UOR_VCLR'] = exercicio1['CD_UOR_VCLR'].astype('Int64')\nexercicio1['NR_ITVL_NVL_HRQO'] = exercicio1['NR_ITVL_NVL_HRQO'].astype('Int64')",
      "metadata": {
        "trusted": true
      },
      "outputs": [],
      "execution_count": 3
    },
    {
      "id": "1b1ddd5b",
      "cell_type": "code",
      "source": "exercicio1.head()",
      "metadata": {
        "trusted": true
      },
      "outputs": [
        {
          "execution_count": 4,
          "output_type": "execute_result",
          "data": {
            "text/plain": "   CD_UOR_VCLD  CD_TIP_VCL  CD_UOR_VCLR  NR_ITVL_NVL_HRQO\n0         9598          99         4924              <NA>\n1         9598         101         9598              <NA>\n2         9598        1060        38047              <NA>\n3         9598        1090         7638              <NA>\n4         9598        1100         1993              <NA>",
            "text/html": "<div>\n<style scoped>\n    .dataframe tbody tr th:only-of-type {\n        vertical-align: middle;\n    }\n\n    .dataframe tbody tr th {\n        vertical-align: top;\n    }\n\n    .dataframe thead th {\n        text-align: right;\n    }\n</style>\n<table border=\"1\" class=\"dataframe\">\n  <thead>\n    <tr style=\"text-align: right;\">\n      <th></th>\n      <th>CD_UOR_VCLD</th>\n      <th>CD_TIP_VCL</th>\n      <th>CD_UOR_VCLR</th>\n      <th>NR_ITVL_NVL_HRQO</th>\n    </tr>\n  </thead>\n  <tbody>\n    <tr>\n      <th>0</th>\n      <td>9598</td>\n      <td>99</td>\n      <td>4924</td>\n      <td>&lt;NA&gt;</td>\n    </tr>\n    <tr>\n      <th>1</th>\n      <td>9598</td>\n      <td>101</td>\n      <td>9598</td>\n      <td>&lt;NA&gt;</td>\n    </tr>\n    <tr>\n      <th>2</th>\n      <td>9598</td>\n      <td>1060</td>\n      <td>38047</td>\n      <td>&lt;NA&gt;</td>\n    </tr>\n    <tr>\n      <th>3</th>\n      <td>9598</td>\n      <td>1090</td>\n      <td>7638</td>\n      <td>&lt;NA&gt;</td>\n    </tr>\n    <tr>\n      <th>4</th>\n      <td>9598</td>\n      <td>1100</td>\n      <td>1993</td>\n      <td>&lt;NA&gt;</td>\n    </tr>\n  </tbody>\n</table>\n</div>"
          },
          "metadata": {}
        }
      ],
      "execution_count": 4
    },
    {
      "id": "250c21fe-1ebc-45e0-bb8d-7a28ec1ffa2b",
      "cell_type": "markdown",
      "source": "# Exercício 2 - Tabela de Unidades Organizacionais (UOR) do BB\n\n<b>Nível de dificuldade (1 a 5):</b> 2\n\n<b>Ordem:</b> qualquer\n\nCriar um DataFrame Pandas chamado <b>exercicio2</b> com a tabela UORs do BB, conforme detalhado abaixo:\n\n||Nome Lógico|Nome Físico|Formato|Descrição|Aceita Nulos|Tabela Origem|Atributo Origem|\n|---|---|---|---|---|---|---|---|\n|1|Código da Unidade Organizacional|CD_UOR|Int64|Código identificador de Unidade Organizacional (UOR) do conglomerado Banco do Brasil (no Brasil e Exterior) ou UOR externas que o BB tenha algum tipo de relacionamento ou interesse em identificá-las.|N|UOR|CD_UOR\n|2|Nome da Unidade Organizacional Reduzido|NM_UOR_RDZ|object|Nome reduzido da Unidade Organizacional.|N|UOR|NM_UOR_RDZ\n|3|Sigla da Unidade Organizacional|SG_UOR|object|Reunião das letras iniciais dos vocábulos fundamentais de uma denominação ou título, sem articulação prosódica, constituindo meras abreviaturas. Ex.: \"DITEC\", \"GBASE\", \"DIREO\", \"PRESI\", etc.|S|UOR|SG_UOR\n|4|Data Início de Validade|DT_INC_VLD|datetime64[ns]|Data em que o registro passa a ter validade (geralmente coincide com a data de inclusão).  Formato \"AAAA-MM-DD\".|N|UOR|DT_INC_VLD\n|5|Código do Item da Arquitetura da Unidade Organizacional|CD_ITEM_AQTT_UOR|Int64|Código identificador dos Itens de Arquitetura que existem em uma Instituição Organizacional para orientação da estrutura das Unidades Organizacionais (oriundo do sistema IOR).|N|UOR|CD_ITEM_AQTT_UOR\n|6|Código do Tipo da Unidade Organizacional|CD_TIP_UOR|Int64|Código identificador dos Tipos nos quais as Unidades Organizacionais podem ser classificadas. Ex.: \"001 - Governo\" \"003 - Canal de Atendimento\",  \"004 - Dependências BB\",  \"005 - Exterior\" etc. |N|UOR|CD_TIP_UOR\n|7|Código da Dependência da Unidade Organizacional|CD_DEPE_UOR|Int64|Código identificador de Dependências de Instituições Organizacionais. No BB atualmente é utilizado os domínios entre 1 e 9999.Ex.: \"0001 - Ag. Rio de Janeiro\", \"4886 - Ag. Estilo Alvorada-Brasília\"|N|UOR|CD_DEPE_UOR\n|8|Número da Ordem da Dependência Subordinada|NR_ORD_DEPE_SBDD|Int64|Número identificador de subordinação de uma dependência de IOR's que possuam em sua organização subdependências ou subordinadas. 0 indica a UOR principal da dependência|N|UOR|NR_ORD_DEPE_SBDD\n\n<b>Regra 1:</b> considere apenas as UORs da Instituição Organizacional \"Banco do Brasil\".\n\n<b>Regra 2:</b> considere apenas as UORs \"em funcionamento\".\n\n<b>Dica: </b>atenção para o formato da data.\n",
      "metadata": {
        "tags": []
      }
    },
    {
      "id": "440cd86f-4aee-43a7-8a42-652ec36b019f",
      "cell_type": "code",
      "source": "# Lista para armazenar os DataFrames lidos\ndfs = []\n\n# Loop para ler todos os arquivos uor01.zip até uor12.zip\nfor i in range(1, 13):\n    # Formata o nome do arquivo com base no número\n    arquivo_zip = f\"bases/UOR/uor{i:02d}.zip\"\n    \n    # Lê o arquivo zip e adiciona ao final da lista\n    df = pd.read_csv(arquivo_zip, compression='zip', sep=',')\n    dfs.append(df)\n\n# Concatena todos os DataFrames em um único DataFrame\nexercicio2 = pd.concat(dfs, ignore_index=True)",
      "metadata": {
        "trusted": true
      },
      "outputs": [],
      "execution_count": 13
    },
    {
      "id": "e5bd7014",
      "cell_type": "code",
      "source": "colunas_selecionadas = ['CD_UOR', 'NM_UOR_RDZ', 'SG_UOR', 'DT_INC_VLD', \n                        'CD_ITEM_AQTT_UOR', 'CD_TIP_UOR', 'CD_DEPE_UOR', 'NR_ORD_DEPE_SBDD', 'CD_IOR','CD_EST_UOR']\n\n# Criando um novo DataFrame com apenas as colunas selecionadas\nexercicio2 = exercicio2[colunas_selecionadas]",
      "metadata": {
        "trusted": true
      },
      "outputs": [],
      "execution_count": 14
    },
    {
      "id": "ae86538d",
      "cell_type": "code",
      "source": "exercicio2['CD_UOR'] = exercicio2['CD_UOR'].astype('Int64')\nexercicio2['NM_UOR_RDZ'] = exercicio2['NM_UOR_RDZ'].astype('object')\nexercicio2['SG_UOR'] = exercicio2['SG_UOR'].astype('object')\nexercicio2['DT_INC_VLD'] = pd.to_datetime(exercicio2['DT_INC_VLD'], format='%d/%m/%Y', errors='coerce')\nexercicio2['DT_INC_VLD'] = pd.to_datetime(exercicio2['DT_INC_VLD'], format='%d/%m/%Y', errors='coerce')\nexercicio2['CD_ITEM_AQTT_UOR'] = exercicio2['CD_ITEM_AQTT_UOR'].astype('Int64')\nexercicio2['CD_TIP_UOR'] = exercicio2['CD_TIP_UOR'].astype('Int64')\nexercicio2['CD_DEPE_UOR'] = exercicio2['CD_DEPE_UOR'].astype('Int64')\nexercicio2['NR_ORD_DEPE_SBDD'] = exercicio2['NR_ORD_DEPE_SBDD'].astype('Int64')\nexercicio2['CD_EST_UOR'] = exercicio2['CD_EST_UOR'].astype('object')",
      "metadata": {
        "trusted": true
      },
      "outputs": [],
      "execution_count": 15
    },
    {
      "id": "4516e089-dbca-4aa8-97d7-80e1f4503f8c",
      "cell_type": "code",
      "source": "exercicio2 = exercicio2[\n    (exercicio2['CD_IOR'] == 1)  &\n    (exercicio2['CD_EST_UOR'] == 2)\n]\n",
      "metadata": {
        "trusted": true
      },
      "outputs": [],
      "execution_count": 16
    },
    {
      "id": "f778e935",
      "cell_type": "code",
      "source": "exercicio2.info()",
      "metadata": {
        "trusted": true
      },
      "outputs": [
        {
          "name": "stdout",
          "text": "<class 'pandas.core.frame.DataFrame'>\nInt64Index: 43005 entries, 0 to 88332\nData columns (total 10 columns):\n #   Column            Non-Null Count  Dtype         \n---  ------            --------------  -----         \n 0   CD_UOR            43005 non-null  Int64         \n 1   NM_UOR_RDZ        43005 non-null  object        \n 2   SG_UOR            39719 non-null  object        \n 3   DT_INC_VLD        43005 non-null  datetime64[ns]\n 4   CD_ITEM_AQTT_UOR  43005 non-null  Int64         \n 5   CD_TIP_UOR        43005 non-null  Int64         \n 6   CD_DEPE_UOR       43005 non-null  Int64         \n 7   NR_ORD_DEPE_SBDD  43005 non-null  Int64         \n 8   CD_IOR            43005 non-null  int64         \n 9   CD_EST_UOR        43005 non-null  object        \ndtypes: Int64(5), datetime64[ns](1), int64(1), object(3)\nmemory usage: 3.3+ MB\n",
          "output_type": "stream"
        }
      ],
      "execution_count": 17
    },
    {
      "id": "8441272d",
      "cell_type": "code",
      "source": "exercicio2.head()",
      "metadata": {
        "trusted": true
      },
      "outputs": [
        {
          "execution_count": 18,
          "output_type": "execute_result",
          "data": {
            "text/plain": "   CD_UOR            NM_UOR_RDZ SG_UOR DT_INC_VLD  CD_ITEM_AQTT_UOR  \\\n0       1  RIO                     NaN 1936-05-02                54   \n2       3  MANAUS                  NaN 1908-01-14                54   \n3       4  PRESIDENTE VARGAS       NaN 1908-07-01                54   \n4       5  SANTOS                  NaN 1908-08-22                54   \n6       7  CAMPOS GOYTACAZES       NaN 1910-06-26                54   \n\n   CD_TIP_UOR  CD_DEPE_UOR  NR_ORD_DEPE_SBDD  CD_IOR CD_EST_UOR  \n0           4            1                 0       1          2  \n2           4            2                 0       1          2  \n3           4            3                 0       1          2  \n4           4            4                 0       1          2  \n6           4            5                 0       1          2  ",
            "text/html": "<div>\n<style scoped>\n    .dataframe tbody tr th:only-of-type {\n        vertical-align: middle;\n    }\n\n    .dataframe tbody tr th {\n        vertical-align: top;\n    }\n\n    .dataframe thead th {\n        text-align: right;\n    }\n</style>\n<table border=\"1\" class=\"dataframe\">\n  <thead>\n    <tr style=\"text-align: right;\">\n      <th></th>\n      <th>CD_UOR</th>\n      <th>NM_UOR_RDZ</th>\n      <th>SG_UOR</th>\n      <th>DT_INC_VLD</th>\n      <th>CD_ITEM_AQTT_UOR</th>\n      <th>CD_TIP_UOR</th>\n      <th>CD_DEPE_UOR</th>\n      <th>NR_ORD_DEPE_SBDD</th>\n      <th>CD_IOR</th>\n      <th>CD_EST_UOR</th>\n    </tr>\n  </thead>\n  <tbody>\n    <tr>\n      <th>0</th>\n      <td>1</td>\n      <td>RIO</td>\n      <td>NaN</td>\n      <td>1936-05-02</td>\n      <td>54</td>\n      <td>4</td>\n      <td>1</td>\n      <td>0</td>\n      <td>1</td>\n      <td>2</td>\n    </tr>\n    <tr>\n      <th>2</th>\n      <td>3</td>\n      <td>MANAUS</td>\n      <td>NaN</td>\n      <td>1908-01-14</td>\n      <td>54</td>\n      <td>4</td>\n      <td>2</td>\n      <td>0</td>\n      <td>1</td>\n      <td>2</td>\n    </tr>\n    <tr>\n      <th>3</th>\n      <td>4</td>\n      <td>PRESIDENTE VARGAS</td>\n      <td>NaN</td>\n      <td>1908-07-01</td>\n      <td>54</td>\n      <td>4</td>\n      <td>3</td>\n      <td>0</td>\n      <td>1</td>\n      <td>2</td>\n    </tr>\n    <tr>\n      <th>4</th>\n      <td>5</td>\n      <td>SANTOS</td>\n      <td>NaN</td>\n      <td>1908-08-22</td>\n      <td>54</td>\n      <td>4</td>\n      <td>4</td>\n      <td>0</td>\n      <td>1</td>\n      <td>2</td>\n    </tr>\n    <tr>\n      <th>6</th>\n      <td>7</td>\n      <td>CAMPOS GOYTACAZES</td>\n      <td>NaN</td>\n      <td>1910-06-26</td>\n      <td>54</td>\n      <td>4</td>\n      <td>5</td>\n      <td>0</td>\n      <td>1</td>\n      <td>2</td>\n    </tr>\n  </tbody>\n</table>\n</div>"
          },
          "metadata": {}
        }
      ],
      "execution_count": 18
    },
    {
      "id": "f11cfd26-6749-4ddd-a479-b0656ebcd517",
      "cell_type": "markdown",
      "source": "# Exercício 3 - Tabela de cursos realizados por funcionário\n\n<b>Nível de dificuldade (1 a 5):</b> 1\n\n<b>Ordem:</b> qualquer\n\nCriar um DataFrame Pandas chamado <b>exercicio3</b> com a tabela dos cursos realizados pelos funcionários, conforme detalhado abaixo:\n\n||Nome Lógico|Nome Físico|Formato|Descrição|Aceita Nulos|Tabela Origem|Atributo Origem|\n|---|---|---|---|---|---|---|---|\n|1|Codigo de matricula do funcionario|?|Int64|Código da matrícula do funcionário. |N|?|?|\n|2|Código do Curso|?|Int64|Identificador do curso. Campo numérico de 7 posições. |N|?|?|\n|3|Data final do curso|?|datetime64[ns]|Data que identifica a finalizaçao do curso. Formato \"AAAA-MM-DD\".|N|?|?|\n|4|Codigo de origem do curso|?|Int64|O conteudo deste campo indentificara a origem do curso. Exemplo: 01-ARH, 02-GTD, 03-PFP, 04-ALURA, 05-UNIBB, 17-SYNAPSE|N|?|?|\n\n<b>Dica 1:</b> para construir o nome físico das tabelas, consulte as abreviações no Glossário de Termos.\n\n<b>Dica 2:</b> atenção para o formato da matrícula.",
      "metadata": {
        "tags": []
      }
    },
    {
      "id": "aee7e25d-8783-47e8-bd0a-a181f547fd0d",
      "cell_type": "code",
      "source": "# Lista para armazenar os DataFrames lidos\ndfs = []\n\n# Loop para ler todos os arquivos uor01.zip até uor12.zip\nfor i in range(1, 12):\n    # Formata o nome do arquivo com base no número\n    arquivo_zip = f\"bases/CSO_PSS_ITSE_SIS/cso_pss_itse_sis{i:02d}.zip\"\n    \n    # Lê o arquivo zip e adiciona ao final da lista\n    df = pd.read_csv(arquivo_zip, compression='zip', sep=',')\n    dfs.append(df)\n\n# Concatena todos os DataFrames em um único DataFrame\nexercicio3 = pd.concat(dfs, ignore_index=True)",
      "metadata": {
        "trusted": true
      },
      "outputs": [],
      "execution_count": 11
    },
    {
      "id": "0b63fb37-5c1a-4523-88cf-276792efdcff",
      "cell_type": "code",
      "source": "exercicio3",
      "metadata": {
        "trusted": true
      },
      "outputs": [
        {
          "execution_count": 13,
          "output_type": "execute_result",
          "data": {
            "text/plain": "        MATRICULA  CD_CSO  DT_FIM_CSO  CD_OGM_CSO\n0        F3066439     127  2008-04-04           4\n1        F3066439     350  2012-05-18           4\n2        F3066439     569  2013-10-22           4\n3        F3066439     828  2016-10-07           4\n4        F3066439    1251  2013-11-13           4\n...           ...     ...         ...         ...\n1953336  F7961886    8504  2024-06-10          11\n1953337  F7961886    2689  2024-06-13           4\n1953338  F7961886    7221  2024-07-10           4\n1953339  F7961886    2712  2024-07-28           4\n1953340  F7961886  202384  2024-07-27          15\n\n[1953341 rows x 4 columns]",
            "text/html": "<div>\n<style scoped>\n    .dataframe tbody tr th:only-of-type {\n        vertical-align: middle;\n    }\n\n    .dataframe tbody tr th {\n        vertical-align: top;\n    }\n\n    .dataframe thead th {\n        text-align: right;\n    }\n</style>\n<table border=\"1\" class=\"dataframe\">\n  <thead>\n    <tr style=\"text-align: right;\">\n      <th></th>\n      <th>MATRICULA</th>\n      <th>CD_CSO</th>\n      <th>DT_FIM_CSO</th>\n      <th>CD_OGM_CSO</th>\n    </tr>\n  </thead>\n  <tbody>\n    <tr>\n      <th>0</th>\n      <td>F3066439</td>\n      <td>127</td>\n      <td>2008-04-04</td>\n      <td>4</td>\n    </tr>\n    <tr>\n      <th>1</th>\n      <td>F3066439</td>\n      <td>350</td>\n      <td>2012-05-18</td>\n      <td>4</td>\n    </tr>\n    <tr>\n      <th>2</th>\n      <td>F3066439</td>\n      <td>569</td>\n      <td>2013-10-22</td>\n      <td>4</td>\n    </tr>\n    <tr>\n      <th>3</th>\n      <td>F3066439</td>\n      <td>828</td>\n      <td>2016-10-07</td>\n      <td>4</td>\n    </tr>\n    <tr>\n      <th>4</th>\n      <td>F3066439</td>\n      <td>1251</td>\n      <td>2013-11-13</td>\n      <td>4</td>\n    </tr>\n    <tr>\n      <th>...</th>\n      <td>...</td>\n      <td>...</td>\n      <td>...</td>\n      <td>...</td>\n    </tr>\n    <tr>\n      <th>1953336</th>\n      <td>F7961886</td>\n      <td>8504</td>\n      <td>2024-06-10</td>\n      <td>11</td>\n    </tr>\n    <tr>\n      <th>1953337</th>\n      <td>F7961886</td>\n      <td>2689</td>\n      <td>2024-06-13</td>\n      <td>4</td>\n    </tr>\n    <tr>\n      <th>1953338</th>\n      <td>F7961886</td>\n      <td>7221</td>\n      <td>2024-07-10</td>\n      <td>4</td>\n    </tr>\n    <tr>\n      <th>1953339</th>\n      <td>F7961886</td>\n      <td>2712</td>\n      <td>2024-07-28</td>\n      <td>4</td>\n    </tr>\n    <tr>\n      <th>1953340</th>\n      <td>F7961886</td>\n      <td>202384</td>\n      <td>2024-07-27</td>\n      <td>15</td>\n    </tr>\n  </tbody>\n</table>\n<p>1953341 rows × 4 columns</p>\n</div>"
          },
          "metadata": {}
        }
      ],
      "execution_count": 13
    },
    {
      "id": "edcd62cd-148e-4a78-bad8-8552ae9d6d6c",
      "cell_type": "code",
      "source": "",
      "metadata": {
        "trusted": true
      },
      "outputs": [],
      "execution_count": null
    },
    {
      "id": "fa1dafc4-d10d-4f09-a56c-4cf9b57a3798",
      "cell_type": "code",
      "source": "",
      "metadata": {
        "trusted": true
      },
      "outputs": [],
      "execution_count": null
    },
    {
      "id": "bb4c5b31-3082-4bb2-9bb8-16fe19787204",
      "cell_type": "markdown",
      "source": "# Exercício 4 - Tabela de cadastro dos funcionários\n\n<b>Nível de dificuldade (1 a 5):</b> 2\n\n<b>Ordem:</b> qualquer\n\nCriar um DataFrame Pandas chamado <b>exercicio4</b> com a tabela de cadastro dos funcionários, conforme detalhado abaixo:\n\n||Nome Lógico|Nome Físico|Formato|Descrição|Aceita Nulos|Tabela Origem|Atributo Origem|\n|---|---|---|---|---|---|---|---|\n|1|Codigo de matricula do funcionario|?|Int64|Código da matrícula (F) do funcionário. |N|CAD_FUN|?\n|2|Nome do funcionário|?|object|Nome do funcionário cadastrado no ARH. Formato: caixa alta, sem acentuação.|N|CAD_FUN|?\n|3|Sigla do Tipo do Estado Civil|?|object|Sigla ARH que define o estado civil do funcionário. |N|CAD_FUN|?\n|4|Código do Tipo de Nível de Instrução|?|Int64|Código ARH do nível de instrução. |N|CAD_FUN|?\n|5|Data de nascimento|?|datetime64[ns]|Data de nascimento. Formato \"AAAA-MM-DD\".|N|CAD_FUN|?\n|6|Código do Tipo de Gênero|?|Int64|Código ARH do sexo/gênero. 1 -Masculino, 2 - Feminino.|N|CAD_FUN|?\n|7|Código do Prefixo da Dependência de Localização|?|Int64|Código do prefixo da dependência de localização (UOR). |N|CAD_FUN|?\n|8|Código de Função ou Cargo Efetiva|?|Int64|Código ARH da função ou cargo efetivo. Exemplo: 610 - ESCRITURARIO, 12381 - ASSESSOR II UE etc. |N|CAD_FUN|?\n|9|Data de Posse na Localização|?|datetime64[ns]|Data de posse na dependência de localização (UOR).  Formato \"AAAA-MM-DD\".|N|CAD_FUN|?\n|10|Data de posse no BB|?|datetime64[ns]|Data de posse no Banco do Brasil. Formato \"AAAA-MM-DD\".|N|CAD_FUN|?\n\n<b>Dica:</b> atenção para a formatação do nome.",
      "metadata": {
        "tags": []
      }
    },
    {
      "id": "79d4aaf5-889e-4241-9e37-df3492e089b2",
      "cell_type": "code",
      "source": "exercicio4 = pd.read_csv('bases/CAD_FUN.csv', sep=\",\")",
      "metadata": {
        "trusted": true
      },
      "outputs": [],
      "execution_count": 14
    },
    {
      "id": "5b460769-82a7-4039-9270-256ab94015eb",
      "cell_type": "code",
      "source": "# Definindo a função de formatação de data\ndef formatar_data(data):\n    # Adiciona zeros à esquerda para garantir que a string tenha 8 caracteres\n    data = data.zfill(8)\n    \n    # Extrai dia, mês e ano da string\n    dia = data[:2]\n    mes = data[2:4]\n    ano = data[4:]\n    \n    # Formata a data no formato dd/mm/yyyy\n    data_formatada = f\"{dia}/{mes}/{ano}\"\n    \n    return data_formatada\n\n\nexercicio4['NASC_DT'] = exercicio4['NASC_DT'].astype('str')\nexercicio4['NASC_DT'] = exercicio4['NASC_DT'].apply(formatar_data)",
      "metadata": {
        "trusted": true
      },
      "outputs": [],
      "execution_count": 15
    },
    {
      "id": "809f5608",
      "cell_type": "code",
      "source": "exercicio4['MATRICULA'] = exercicio4['MATRICULA'].astype('Int64')\nexercicio4['NOME'] = exercicio4['NOME'].astype('object')\nexercicio4['EST_CIVIL'] = exercicio4['EST_CIVIL'].astype('object')\nexercicio4['GRAU_INSTRUCAO'] = exercicio4['GRAU_INSTRUCAO'].astype('Int64')\nexercicio4['NASC_DT'] = pd.to_datetime(exercicio4['NASC_DT'], format='%d/%m/%Y', errors='coerce')\nexercicio4['SEXO'] = exercicio4['SEXO'].astype('Int64')\nexercicio4['LOCALIZACAO'] = exercicio4['LOCALIZACAO'].astype('Int64')\nexercicio4['FUNCAO_LOCALIZACAO'] = exercicio4['FUNCAO_LOCALIZACAO'].astype('Int64')\nexercicio4['LOCALIZACAO_DT'] = pd.to_datetime(exercicio4['LOCALIZACAO_DT'], format='%Y-%m-%d', errors='coerce')\nexercicio4['POSSE_BANCO_DT'] = pd.to_datetime(exercicio4['POSSE_BANCO_DT'], format='%Y-%m-%d', errors='coerce')",
      "metadata": {
        "trusted": true
      },
      "outputs": [],
      "execution_count": 16
    },
    {
      "id": "eb1f7a24-7fca-4613-bedf-a2ab2e973efd",
      "cell_type": "code",
      "source": "exercicio4.info()",
      "metadata": {
        "trusted": true
      },
      "outputs": [
        {
          "name": "stdout",
          "text": "<class 'pandas.core.frame.DataFrame'>\nRangeIndex: 5287 entries, 0 to 5286\nData columns (total 10 columns):\n #   Column              Non-Null Count  Dtype         \n---  ------              --------------  -----         \n 0   MATRICULA           5287 non-null   Int64         \n 1   NOME                5287 non-null   object        \n 2   EST_CIVIL           5287 non-null   object        \n 3   GRAU_INSTRUCAO      5287 non-null   Int64         \n 4   NASC_DT             5287 non-null   datetime64[ns]\n 5   SEXO                5287 non-null   Int64         \n 6   LOCALIZACAO         5287 non-null   Int64         \n 7   FUNCAO_LOCALIZACAO  5287 non-null   Int64         \n 8   LOCALIZACAO_DT      5287 non-null   datetime64[ns]\n 9   POSSE_BANCO_DT      5287 non-null   datetime64[ns]\ndtypes: Int64(5), datetime64[ns](3), object(2)\nmemory usage: 397.6+ KB\n",
          "output_type": "stream"
        }
      ],
      "execution_count": 17
    },
    {
      "id": "d11c9ed1-4d1c-4a3e-ba7e-1781086851e1",
      "cell_type": "code",
      "source": "exercicio4.head()",
      "metadata": {
        "trusted": true
      },
      "outputs": [
        {
          "execution_count": 18,
          "output_type": "execute_result",
          "data": {
            "text/plain": "   MATRICULA                  NOME EST_CIVIL  GRAU_INSTRUCAO    NASC_DT  SEXO  \\\n0     665496       Agatha da Costa         2               8 1966-11-04     2   \n1     724351           Alexia Dias         8               8 1981-02-20     2   \n2     850407       Allana Mendonça         1               8 1983-10-04     2   \n3     872028          Amanda Sousa         2               8 1979-05-30     2   \n4     971323  Ana Clara Montenegro         2               8 1982-12-09     2   \n\n   LOCALIZACAO  FUNCAO_LOCALIZACAO LOCALIZACAO_DT POSSE_BANCO_DT  \n0         8008               12392     2024-05-21     2008-10-01  \n1         8008               12331     2017-02-21     2002-12-16  \n2         8008               12331     2023-10-30     2012-06-11  \n3         8008               12331     2022-05-23     2015-08-03  \n4         8008               12331     2023-07-06     2016-01-25  ",
            "text/html": "<div>\n<style scoped>\n    .dataframe tbody tr th:only-of-type {\n        vertical-align: middle;\n    }\n\n    .dataframe tbody tr th {\n        vertical-align: top;\n    }\n\n    .dataframe thead th {\n        text-align: right;\n    }\n</style>\n<table border=\"1\" class=\"dataframe\">\n  <thead>\n    <tr style=\"text-align: right;\">\n      <th></th>\n      <th>MATRICULA</th>\n      <th>NOME</th>\n      <th>EST_CIVIL</th>\n      <th>GRAU_INSTRUCAO</th>\n      <th>NASC_DT</th>\n      <th>SEXO</th>\n      <th>LOCALIZACAO</th>\n      <th>FUNCAO_LOCALIZACAO</th>\n      <th>LOCALIZACAO_DT</th>\n      <th>POSSE_BANCO_DT</th>\n    </tr>\n  </thead>\n  <tbody>\n    <tr>\n      <th>0</th>\n      <td>665496</td>\n      <td>Agatha da Costa</td>\n      <td>2</td>\n      <td>8</td>\n      <td>1966-11-04</td>\n      <td>2</td>\n      <td>8008</td>\n      <td>12392</td>\n      <td>2024-05-21</td>\n      <td>2008-10-01</td>\n    </tr>\n    <tr>\n      <th>1</th>\n      <td>724351</td>\n      <td>Alexia Dias</td>\n      <td>8</td>\n      <td>8</td>\n      <td>1981-02-20</td>\n      <td>2</td>\n      <td>8008</td>\n      <td>12331</td>\n      <td>2017-02-21</td>\n      <td>2002-12-16</td>\n    </tr>\n    <tr>\n      <th>2</th>\n      <td>850407</td>\n      <td>Allana Mendonça</td>\n      <td>1</td>\n      <td>8</td>\n      <td>1983-10-04</td>\n      <td>2</td>\n      <td>8008</td>\n      <td>12331</td>\n      <td>2023-10-30</td>\n      <td>2012-06-11</td>\n    </tr>\n    <tr>\n      <th>3</th>\n      <td>872028</td>\n      <td>Amanda Sousa</td>\n      <td>2</td>\n      <td>8</td>\n      <td>1979-05-30</td>\n      <td>2</td>\n      <td>8008</td>\n      <td>12331</td>\n      <td>2022-05-23</td>\n      <td>2015-08-03</td>\n    </tr>\n    <tr>\n      <th>4</th>\n      <td>971323</td>\n      <td>Ana Clara Montenegro</td>\n      <td>2</td>\n      <td>8</td>\n      <td>1982-12-09</td>\n      <td>2</td>\n      <td>8008</td>\n      <td>12331</td>\n      <td>2023-07-06</td>\n      <td>2016-01-25</td>\n    </tr>\n  </tbody>\n</table>\n</div>"
          },
          "metadata": {}
        }
      ],
      "execution_count": 18
    },
    {
      "id": "29404859-efcc-4b9a-8fd5-adeb8d837e49",
      "cell_type": "markdown",
      "source": "# Exercício 5 - Incremento da tabela de cadastro de funcionários\n\n<b>Nível de dificuldade (1 a 5):</b> 3\n\n<b>Requisitos:</b> exercício 4\n\nCriar um DataFrame Pandas chamado <b>exercicio5</b> contendo os campos adicionais do cadastro do funcionários, conforme abaixo detalhado:\n\n||Nome Lógico|Nome Físico|Formato|Descrição|Aceita Nulos|Tabela Origem|Atributo Origem|\n|---|---|---|---|---|---|---|---|\n|1|Codigo de matricula do funcionario|?|Int64|Código da matrícula (F) do funcionário. |N|?|?|\n|2|Nome do funcionário|?|object|Nome do funcionário cadastrado no ARH. Formato: caixa alta, sem acentuação.|N|?|?|\n|3|Código de Função ou Cargo Efetiva|?|Int64|Código ARH da função ou cargo efetivo. Exemplo: 610, 12381, etc. |N|?|?|\n|4|Nome da Função ou Cargo Efetivo|?|object|Nome da função ou cargo efetivo. Exemplo: 610 - ESCRITURARIO, 12381 - ASSESSOR II UE etc. |S|?|?|\n|5|Código do Prefixo da Dependência de Localização|?|Int64|Código do prefixo da dependência de localização (UOR). |N|?|?|\n|6|Data de Posse na Localização|?|datetime64[ns]|Data de posse na dependência de localização (UOR).  Formato \"AAAA-MM-DD\".|N|?|?|\n|7|Data de posse no BB|?|datetime64[ns]|Data de posse no Banco do Brasil. Formato \"AAAA-MM-DD\".|N|?|?|\n|8|Data de nascimento|?|datetime64[ns]|Data de nascimento. Formato \"AAAA-MM-DD\".|N|?|?|\n|9|Código do Tipo de Gênero|?|Int64|Código ARH do sexo/gênero. 1 -Masculino, 2 - Feminino.|N|?|?|\n|10|Sigla do Tipo do Estado Civil|?|object|Sigla ARH que define o estado civil do funcionário. |N|?|?|\n|11|Nome do Tipo de Estado Civil|?|object|Descrição do estado civil do funcionário. |N|?|?|\n|12|Código do Tipo de Nível de Instrução|?|Int64|Código ARH do nível de instrução. |N|?|?|\n|13|Nome do Tipo de Nível de Instrução|?|object|Descrição do nível de instrução. |N|?|?|\n\n<b>Regra 1:</b> para a descrição do estado civil, considere os valores abaixo:\n\n|Cod.|Descrição|\n|---|---|\n|1|SOLTEIRO(A)|\n|2|CASADO(A)|\n|3|CASADO(A) COM FUNCIONARIA(O)|\n|4|VIUVO(A)|\n|5|SEPARADO(A) JUDICIAL OU EXTRAJ|\n|8|DIVORCIADO(A)|\n|M|SEPARADO(A) CONSENSUALMENTE|\n\n<b>Regra 2:</b> para a descrição do nível de instrução, considere os valores abaixo:\n\n|Cod.|Descrição|\n|---|---|\n|1|ENSINO FUNDAMENTAL|\n|2|ENSINO MEDIO|\n|3|SUPERIOR EM ANDAMENTO|\n|4|SUPERIOR SEQUENCIAL|\n|5|SUPERIOR GRADUACAO|\n|6|POS-GRADUACAO-APERFEIC|\n|7|POS-GRADUCAO-ESPEC|\n|8|MESTRADO|\n|9|DOUTORADO|",
      "metadata": {
        "tags": []
      }
    },
    {
      "id": "9af727e8-0958-4281-a27b-474013a58940",
      "cell_type": "code",
      "source": "exercicio5 = pd.read_csv('bases/CAD_FUN.csv', sep=\",\")",
      "metadata": {
        "trusted": true
      },
      "outputs": [],
      "execution_count": 19
    },
    {
      "id": "6b2d5cf9-37cd-455a-a329-8f7d06b6bc16",
      "cell_type": "code",
      "source": "# Definindo a função de formatação de data\ndef formatar_data(data):\n    # Adiciona zeros à esquerda para garantir que a string tenha 8 caracteres\n    data = data.zfill(8)\n    \n    # Extrai dia, mês e ano da string\n    dia = data[:2]\n    mes = data[2:4]\n    ano = data[4:]\n    \n    # Formata a data no formato dd/mm/yyyy\n    data_formatada = f\"{dia}/{mes}/{ano}\"\n    \n    return data_formatada\n\n\nexercicio5['NASC_DT'] = exercicio5['NASC_DT'].astype('str')\nexercicio5['NASC_DT'] = exercicio5['NASC_DT'].apply(formatar_data)",
      "metadata": {
        "trusted": true
      },
      "outputs": [],
      "execution_count": 20
    },
    {
      "id": "43f9eda3-30e7-4433-9f44-e67f55e2e583",
      "cell_type": "code",
      "source": "exercicio5['MATRICULA'] = exercicio5['MATRICULA'].astype('Int64')\nexercicio5['NOME'] = exercicio5['NOME'].astype('object')\nexercicio5['EST_CIVIL'] = exercicio5['EST_CIVIL'].astype('object')\nexercicio5['GRAU_INSTRUCAO'] = exercicio5['GRAU_INSTRUCAO'].astype('Int64')\nexercicio5['NASC_DT'] = pd.to_datetime(exercicio5['NASC_DT'], format='%d/%m/%Y', errors='coerce')\nexercicio5['SEXO'] = exercicio5['SEXO'].astype('Int64')\nexercicio5['LOCALIZACAO'] = exercicio5['LOCALIZACAO'].astype('Int64')\nexercicio5['FUNCAO_LOCALIZACAO'] = exercicio5['FUNCAO_LOCALIZACAO'].astype('Int64')\nexercicio5['LOCALIZACAO_DT'] = pd.to_datetime(exercicio5['LOCALIZACAO_DT'], format='%Y-%m-%d', errors='coerce')\nexercicio5['POSSE_BANCO_DT'] = pd.to_datetime(exercicio5['POSSE_BANCO_DT'], format='%Y-%m-%d', errors='coerce')",
      "metadata": {
        "trusted": true
      },
      "outputs": [],
      "execution_count": 21
    },
    {
      "id": "1fa9855c-f18f-4319-ba28-06b971d0f21c",
      "cell_type": "code",
      "source": "estado_civil_dict = {\n    '1': 'SOLTEIRO(A)',\n    '2': 'CASADO(A)',\n    '3': 'CASADO(A) COM FUNCIONARIA(O)',\n    '4': 'VIUVO(A)',\n    '5': 'SEPARADO(A) JUDICIAL OU EXTRAJ',\n    '8': 'DIVORCIADO(A)',\n    'M': 'SEPARADO(A) CONSENSUALMENTE'\n}\n\n# Use o método map para criar a nova coluna\nexercicio5['NOME_EST_CIVIL'] = exercicio5['EST_CIVIL'].map(estado_civil_dict)\n\n# Dicionário de mapeamento\nmapeamento = {\n    1: 'ENSINO FUNDAMENTAL',\n    2: 'ENSINO MEDIO',\n    3: 'SUPERIOR EM ANDAMENTO',\n    4: 'SUPERIOR SEQUENCIAL',\n    5: 'SUPERIOR GRADUACAO',\n    6: 'POS-GRADUACAO-APERFEIC',\n    7: 'POS-GRADUCAO-ESPEC',\n    8: 'MESTRADO',\n    9: 'DOUTORADO'\n}\n\n# Aplicando o mapeamento\nexercicio5['NOME_GRAU_INSTRUCAO'] = exercicio5['GRAU_INSTRUCAO'].map(mapeamento)",
      "metadata": {
        "trusted": true
      },
      "outputs": [],
      "execution_count": 22
    },
    {
      "id": "efd47095-5bb9-492b-bd65-1f1f5a6d76d6",
      "cell_type": "code",
      "source": "exercicio5.head()",
      "metadata": {
        "trusted": true
      },
      "outputs": [
        {
          "execution_count": 23,
          "output_type": "execute_result",
          "data": {
            "text/plain": "   MATRICULA                  NOME EST_CIVIL  GRAU_INSTRUCAO    NASC_DT  SEXO  \\\n0     665496       Agatha da Costa         2               8 1966-11-04     2   \n1     724351           Alexia Dias         8               8 1981-02-20     2   \n2     850407       Allana Mendonça         1               8 1983-10-04     2   \n3     872028          Amanda Sousa         2               8 1979-05-30     2   \n4     971323  Ana Clara Montenegro         2               8 1982-12-09     2   \n\n   LOCALIZACAO  FUNCAO_LOCALIZACAO LOCALIZACAO_DT POSSE_BANCO_DT  \\\n0         8008               12392     2024-05-21     2008-10-01   \n1         8008               12331     2017-02-21     2002-12-16   \n2         8008               12331     2023-10-30     2012-06-11   \n3         8008               12331     2022-05-23     2015-08-03   \n4         8008               12331     2023-07-06     2016-01-25   \n\n  NOME_EST_CIVIL NOME_GRAU_INSTRUCAO  \n0      CASADO(A)            MESTRADO  \n1  DIVORCIADO(A)            MESTRADO  \n2    SOLTEIRO(A)            MESTRADO  \n3      CASADO(A)            MESTRADO  \n4      CASADO(A)            MESTRADO  ",
            "text/html": "<div>\n<style scoped>\n    .dataframe tbody tr th:only-of-type {\n        vertical-align: middle;\n    }\n\n    .dataframe tbody tr th {\n        vertical-align: top;\n    }\n\n    .dataframe thead th {\n        text-align: right;\n    }\n</style>\n<table border=\"1\" class=\"dataframe\">\n  <thead>\n    <tr style=\"text-align: right;\">\n      <th></th>\n      <th>MATRICULA</th>\n      <th>NOME</th>\n      <th>EST_CIVIL</th>\n      <th>GRAU_INSTRUCAO</th>\n      <th>NASC_DT</th>\n      <th>SEXO</th>\n      <th>LOCALIZACAO</th>\n      <th>FUNCAO_LOCALIZACAO</th>\n      <th>LOCALIZACAO_DT</th>\n      <th>POSSE_BANCO_DT</th>\n      <th>NOME_EST_CIVIL</th>\n      <th>NOME_GRAU_INSTRUCAO</th>\n    </tr>\n  </thead>\n  <tbody>\n    <tr>\n      <th>0</th>\n      <td>665496</td>\n      <td>Agatha da Costa</td>\n      <td>2</td>\n      <td>8</td>\n      <td>1966-11-04</td>\n      <td>2</td>\n      <td>8008</td>\n      <td>12392</td>\n      <td>2024-05-21</td>\n      <td>2008-10-01</td>\n      <td>CASADO(A)</td>\n      <td>MESTRADO</td>\n    </tr>\n    <tr>\n      <th>1</th>\n      <td>724351</td>\n      <td>Alexia Dias</td>\n      <td>8</td>\n      <td>8</td>\n      <td>1981-02-20</td>\n      <td>2</td>\n      <td>8008</td>\n      <td>12331</td>\n      <td>2017-02-21</td>\n      <td>2002-12-16</td>\n      <td>DIVORCIADO(A)</td>\n      <td>MESTRADO</td>\n    </tr>\n    <tr>\n      <th>2</th>\n      <td>850407</td>\n      <td>Allana Mendonça</td>\n      <td>1</td>\n      <td>8</td>\n      <td>1983-10-04</td>\n      <td>2</td>\n      <td>8008</td>\n      <td>12331</td>\n      <td>2023-10-30</td>\n      <td>2012-06-11</td>\n      <td>SOLTEIRO(A)</td>\n      <td>MESTRADO</td>\n    </tr>\n    <tr>\n      <th>3</th>\n      <td>872028</td>\n      <td>Amanda Sousa</td>\n      <td>2</td>\n      <td>8</td>\n      <td>1979-05-30</td>\n      <td>2</td>\n      <td>8008</td>\n      <td>12331</td>\n      <td>2022-05-23</td>\n      <td>2015-08-03</td>\n      <td>CASADO(A)</td>\n      <td>MESTRADO</td>\n    </tr>\n    <tr>\n      <th>4</th>\n      <td>971323</td>\n      <td>Ana Clara Montenegro</td>\n      <td>2</td>\n      <td>8</td>\n      <td>1982-12-09</td>\n      <td>2</td>\n      <td>8008</td>\n      <td>12331</td>\n      <td>2023-07-06</td>\n      <td>2016-01-25</td>\n      <td>CASADO(A)</td>\n      <td>MESTRADO</td>\n    </tr>\n  </tbody>\n</table>\n</div>"
          },
          "metadata": {}
        }
      ],
      "execution_count": 23
    },
    {
      "id": "cdb5bbd0-df5e-48af-be01-5afb158d478a",
      "cell_type": "markdown",
      "source": "# Exercício 6 - Tabela Catálogo de Cursos\n\n<b>Nível de dificuldade (1 a 5):</b> 3\n\n<b>Ordem:</b> qualquer\n\nCriar um DataFrame Pandas chamado <b>exercicio6</b> contendo o catálodo de cursos e formações do Banco, conforme abaixo:\n\n||Nome Lógico|Nome Físico|Formato|Descrição|Aceita Nulos|Tabela Origem|Atributo Origem|\n|---|---|---|---|---|---|---|---|\n|1|Código do Curso|?|Int64|Identificador do curso. Campo numérico de 7 posições. |N|?|?|\n|2|Nome do Curso|?|object|Nome genérico do curso. |N|?|?|\n|3|Texto do Curso|?|object|Breve descrição do assunto abordado pelo curso. |N|?|?|\n|4|Texto do Objetivo do Curso|?|object|Texto que descreve o objetivo do curso. |N|?|?|\n|5|Texto do Desempenho Esperado|?|object|Texto que descreve o desempenho esperado no curso para o treinando. |S|?|?|\n|6|Texto do Objetivo Estratégico|?|object|Texto que descreve quais são os objetivos estratégicos do curso. |S|?|?|\n|7|Código da Área de Conhecimento|?|Int64|Código da área de conhecimento do curso. Campo numérico de 3. Exemplo: Área: 170 (Será este atributo) Subárea: 170.050 conhecimento: 170.050.0025.|S|?|?|\n|8|Nome da Área de Conhecimento|?|object|Descrição da área de conhecimento do curso.|S|?|?|\n|9|Código da Sub Área de Conhecimento|?|Int64|Código da sub-área do conhecimento. Exemplo: Área: 170 Subárea: 170.050 (Será o 050) conhecimento: 170.050.0025.|S|?|?|\n|10|Nome da Sub Área de Conhecimento|?|object|Descrição da sub-área do conhecimento.|S|?|?|\n|11|Código do Conhecimento do Curso|?|Int64|Código do conhecimento. Identifica o conhecimento do curso.|N|?|?|\n|12|Nome do Conhecimento do Curso|?|object|Descrição do conhecimento do curso.|S|?|?|\n|13|Quantidade de Carga Horária do Curso|?|Int64|Carga horária total do curso em horas|S|?|?|\n|14|Código do Tipo da Formação Superior|?|Int64|Código identificador da formação superior. Ex:   35- Pós-Graduação;  36- Mestrado;  37- Doutorado. |S|?|?|\n|15|Texto do Tipo da Formação Superior|?|object|Descrição da formação superior. |S|?|?|\n|16|Código da Modalidade do Curso|?|Int64|Indica o código da modalidade do curso. Sendo: 01 - Presencial; 02 - Auto-instrucional; 03 - Em serviço; 09 - A regularizar |N|?|?|\n|17|Código do Nível do Curso|?|Int64|Identificador do tipo do nível do curso (enfoque de aprendizagem). Sendo: 01 - Fundamental; 02 - Instrumental; 03 - Estratégico; 04 - Acadêmico; 09 - A classificar. |N|?|?|\n|18|Código da Natureza do Curso|?|Int64|Identificador da natureza do curso. 01 - Atualização; 02 - Formação; 03 - Aperfeiçoamento; 04 - Qualificação. |N|?|?|\n|19|Código do Tipo de Origem do Curso|?|Int64|Código dos tipos de origem do curso. 01 - Desenvolvido pelo banco; 02 - Contratado no mercado; 03 - Em parceria |N|?|?|\n|20|Código do Tipo de Público|?|Int64|Código dos tipos de público (participação) que o curso pode ter. Ex.: 1- Interno;  2- externo; 3- misto. |N|?|?|\n|21|Indicador de Vigência do Curso|?|object|Indica a utilização do curso. Possíveis valores: \"S\" - (SIM) Em Linha; \"N\" - (NÃO) Fora de linha |N|?|?|\n|22|Indicador de Trilha de Estratégica|?|object|Indica se o curso faz parte da Trilha de Estratégica de Capacitação. Possíveis valores: \"S\" - (SIM); \"N\" - (NÃO)|N|?|?|\n|23|Nome da Etapa|?|object|Descrição do tema da etapa de capacitação para os cursos que fazem parte da Trilha Estratégica. Possíveis valores: ASG, NEGOCIOS, LIDERANCA, TRANSFORMACAO DIGITAL. Formato: caixa alta, sem acentuação.|S|?|?|\n\n<b>Regra 1:</b> todas as colunas de texto devem ser formatadas conforme o padrão caixa alta e sem acento.\n\n<b>Regra 2:</b> os registros das colunas de texto que contiverem nulos deverão permanecer nulos ao final das transformações.\n\n<b>Regra 3:</b> excluir registros que atendam a alguma das regras abaixo:\n\n- quando o Texto do Objetivo do Curso for igual a 'TESTE EDUCA' ou 'TESTE GTD' ou 'TESTE' ou 'TESTANDO' ou 'DADFAFD' ou 'SGASDG' ou 'NXYZ' ou 'R';\n- quando o Texto do Objetivo do Curso for igual a 'A' e o Código da Área de Conhecimento for nulo;\n- quando o Nome do Curso contiver 'EXCEL TESTE' ou 'TESTE DISCIPLINA' ou 'EXCLUIR' ou 'ALURA';\n- quando o Nome do curso for contiver 'TESTE' e o Código da Área de Conhecimento for nulo, com exceção do curso 7740;\n- quando o Nome do curso for contiver 'TESTE' e o Texto do Objetivo do Curso for igual a '.';\n- quando o Texto do Curso contiver 'TESTE MATERIAL' ou 'TESTE GERAL'.\n- quando o Nome do curso ou o Texto do Curso contiverem 'EXCLUIDO'.",
      "metadata": {
        "tags": []
      }
    },
    {
      "id": "2b30d9b9-cdce-4f01-825c-c29838a9c319",
      "cell_type": "code",
      "source": "# Lista para armazenar os DataFrames lidos\ndfs = []\n\n# Loop para ler todos os arquivos uor01.zip até uor12.zip\nfor i in range(1, 4):\n    # Formata o nome do arquivo com base no número\n    arquivo_zip = f\"bases/CSO/cso{i:02d}.zip\"\n    \n    # Lê o arquivo zip e adiciona ao final da lista\n    df = pd.read_csv(arquivo_zip, compression='zip', sep=',')\n    dfs.append(df)\n\n# Concatena todos os DataFrames em um único DataFrame\nexercicio6 = pd.concat(dfs, ignore_index=True)",
      "metadata": {
        "trusted": true
      },
      "outputs": [],
      "execution_count": 25
    },
    {
      "id": "ef26a7a3-f31f-49ae-ab13-bf5cfce61306",
      "cell_type": "code",
      "source": "exercicio6_aux1 = pd.read_csv('bases/CNH.csv', sep=\",\")",
      "metadata": {
        "trusted": true
      },
      "outputs": [],
      "execution_count": 26
    },
    {
      "id": "4f712a5e-9d1e-4969-9914-75f5e0ec251a",
      "cell_type": "code",
      "source": "exercicio6_aux2 = pd.read_csv('bases/AREA_CNH.csv', sep=\",\")\n",
      "metadata": {
        "trusted": true
      },
      "outputs": [],
      "execution_count": 27
    },
    {
      "id": "ad607f32-d3a8-4f36-adec-aee6660f5f15",
      "cell_type": "code",
      "source": "exercicio6_aux3 = pd.read_csv('bases/lista_treinamentos.csv', sep=\",\")",
      "metadata": {
        "trusted": true
      },
      "outputs": [],
      "execution_count": 28
    },
    {
      "id": "787631c0-bbd6-47de-bc0c-b817a68afbd1",
      "cell_type": "code",
      "source": "exercicio6_aux4 = pd.read_csv('bases/SUB_AREA_CNH.csv', sep=\",\")\nexercicio6_aux4 = exercicio6_aux4[['CD_AREA_CNH', 'NM_SUB_AREA_CNH']]",
      "metadata": {
        "trusted": true
      },
      "outputs": [],
      "execution_count": 29
    },
    {
      "id": "656448c4-d3b4-4fc9-9855-cd54aed9cabb",
      "cell_type": "code",
      "source": "exercicio6_aux5 = pd.read_csv('bases/TIP_FRMC_SUPR.csv', sep=\",\")",
      "metadata": {
        "trusted": true
      },
      "outputs": [],
      "execution_count": 30
    },
    {
      "id": "a4c307d7-0cc0-4530-8ae8-8c68e1637a84",
      "cell_type": "code",
      "source": "# Realizando o inner join\nexercicio6 = pd.merge(exercicio6, exercicio6_aux1, left_on='CD_CNH_CSO', right_on='CD_CNH', how='left')\nexercicio6 = pd.merge(exercicio6, exercicio6_aux2, left_on='CD_AREA_CNH', right_on='CD_AREA_CNH', how='left')\nexercicio6 = pd.merge(exercicio6, exercicio6_aux3, left_on='CD_CSO', right_on='Código Educa', how='left')\nexercicio6 = pd.merge(exercicio6, exercicio6_aux4, left_on='CD_AREA_CNH', right_on='CD_AREA_CNH', how='left')\nexercicio6 = pd.merge(exercicio6, exercicio6_aux5, left_on='CD_TIP_FRMC_SUPR', right_on='CD_TIP_FRMC_SUPR', how='left')",
      "metadata": {
        "trusted": true
      },
      "outputs": [],
      "execution_count": 31
    },
    {
      "id": "b2165f8c-220f-4f6c-bedb-22dd9ad2f828",
      "cell_type": "code",
      "source": "exercicio6['IN_TRLA_ESTG'] = exercicio6['Etapa'].apply(lambda x: 'S' if pd.notna(x) else 'N')",
      "metadata": {
        "trusted": true
      },
      "outputs": [],
      "execution_count": 32
    },
    {
      "id": "6cca7792-5863-469f-a3c4-f7ae95f6b478",
      "cell_type": "code",
      "source": "# Função para remover acentos e converter para maiúsculas\ndef remover_acentos_e_maiusculas(texto):\n    if isinstance(texto, str):  # Verifica se o valor é uma string\n        acentos = {\n            'á': 'a', 'à': 'a', 'ã': 'a', 'â': 'a', 'ä': 'a',\n            'é': 'e', 'è': 'e', 'ê': 'e', 'ë': 'e',\n            'í': 'i', 'ì': 'i', 'î': 'i', 'ï': 'i',\n            'ó': 'o', 'ò': 'o', 'õ': 'o', 'ô': 'o', 'ö': 'o',\n            'ú': 'u', 'ù': 'u', 'û': 'u', 'ü': 'u',\n            'ç': 'c',\n            'Á': 'A', 'À': 'A', 'Ã': 'A', 'Â': 'A', 'Ä': 'A',\n            'É': 'E', 'È': 'E', 'Ê': 'E', 'Ë': 'E',\n            'Í': 'I', 'Ì': 'I', 'Î': 'I', 'Ï': 'I',\n            'Ó': 'O', 'Ò': 'O', 'Õ': 'O', 'Ô': 'O', 'Ö': 'O',\n            'Ú': 'U', 'Ù': 'U', 'Û': 'U', 'Ü': 'U',\n            'Ç': 'C'\n        }\n        for acento, sem_acento in acentos.items():\n            texto = texto.replace(acento, sem_acento)\n        return texto.upper()\n    return texto  # Retorna o valor original se não for uma string\n\n# Lista de colunas a serem formatadas\ncolunas_para_formatar = ['NM_CSO', 'TX_CSO', 'TX_OBJT_CSO', 'TX_DSMP_EPRO', 'TX_OBJT_ESTG', 'NM_CNH', 'NM_AREA_CNH']\n\n# Aplicando a formatação às colunas especificadas\nfor coluna in colunas_para_formatar:\n    exercicio6[coluna] = exercicio6[coluna].apply(remover_acentos_e_maiusculas)",
      "metadata": {
        "trusted": true
      },
      "outputs": [],
      "execution_count": 33
    },
    {
      "id": "e098cfec-6a0f-4b11-9215-b2de533acbc3",
      "cell_type": "code",
      "source": "exercicio6 = exercicio6[['CD_CSO', 'NM_CSO', 'TX_CSO', 'TX_OBJT_CSO', 'TX_DSMP_EPRO', 'TX_OBJT_ESTG', 'CD_AREA_CNH', 'NM_AREA_CNH',\n                     'CD_SUB_AREA_CNH', 'NM_SUB_AREA_CNH', 'CD_CNH_CSO', 'NM_CNH', 'CGHR_CSO', 'CD_TIP_FRMC_SUPR', \n                     'TX_TIP_FRMC_SUPR', 'CD_MDLD_CSO', 'CD_NVL_CSO', 'CD_NTZ_CSO', 'CD_TIP_OGM_CSO', 'CD_TIP_PBCO', 'IN_VGC_CSO', 'IN_TRLA_ESTG', 'Etapa']]",
      "metadata": {
        "trusted": true
      },
      "outputs": [],
      "execution_count": 34
    },
    {
      "id": "6e3a6a0b-0ee4-4522-ac62-34c16afdb091",
      "cell_type": "code",
      "source": "def tratar_dados(df):\n    # Regras para filtrar os dados\n    df = df[~df['TX_OBJT_CSO'].isin(['TESTE EDUCA', 'TESTE GTD', 'TESTE', 'TESTANDO', 'DADFAFD', 'SGASDG', 'NXYZ', 'R'])]\n    df = df[~((df['TX_OBJT_CSO'] == 'A') & (df['CD_AREA_CNH'].isnull()))]\n    df = df[~(df['NM_CSO'].str.contains('EXCEL TESTE|TESTE DISCIPLINA|EXCLUIR|ALURA', na=False))]\n    df = df[~((df['NM_CSO'].str.contains('TESTE', na=False)) & (df['CD_AREA_CNH'].isnull()) & (df['NM_CSO'] != '7740'))]\n    df = df[~((df['NM_CSO'].str.contains('TESTE', na=False)) & (df['TX_OBJT_CSO'] == '.'))]\n    df = df[~(df['TX_CSO'].str.contains('TESTE MATERIAL|TESTE GERAL', na=False))]\n    df = df[~(df['NM_CSO'].str.contains('EXCLUIDO', na=False) | df['TX_CSO'].str.contains('EXCLUIDO', na=False))]\n\n    return df\n\nexercicio6_aux = tratar_dados(exercicio6)",
      "metadata": {
        "trusted": true
      },
      "outputs": [],
      "execution_count": 35
    },
    {
      "id": "476a6e1f-cf41-4ec2-8012-da3b755dfa24",
      "cell_type": "code",
      "source": "exercicio6['CD_CSO'] = exercicio6['CD_CSO'].astype('Int64')\nexercicio6['NM_CSO'] = exercicio6['NM_CSO'].astype('object')\nexercicio6['NM_CSO'] = exercicio6['TX_OBJT_CSO'].astype('object')\nexercicio6['NM_CSO'] = exercicio6['TX_DSMP_EPRO'].astype('object')\nexercicio6['NM_CSO'] = exercicio6['TX_OBJT_ESTG'].astype('object')\nexercicio6['CD_AREA_CNH'] = exercicio6['CD_AREA_CNH'].astype('Int64')\nexercicio6['NM_AREA_CNH'] = exercicio6['NM_AREA_CNH'].astype('object')\nexercicio6['CD_SUB_AREA_CNH'] = exercicio6['CD_SUB_AREA_CNH'].astype('Int64')\nexercicio6['NM_SUB_AREA_CNH'] = exercicio6['NM_SUB_AREA_CNH'].astype('object')\nexercicio6['CD_CNH_CSO'] = exercicio6['CD_CNH_CSO'].astype('Int64')\nexercicio6['NM_CNH'] = exercicio6['NM_CNH'].astype('object')\nexercicio6['CGHR_CSO'] = exercicio6['CGHR_CSO'].astype('Int64')\nexercicio6['CD_TIP_FRMC_SUPR'] = exercicio6['CD_TIP_FRMC_SUPR'].astype('Int64')\nexercicio6['TX_TIP_FRMC_SUPR'] = exercicio6['TX_TIP_FRMC_SUPR'].astype('object')\nexercicio6['CD_MDLD_CSO'] = exercicio6['CD_MDLD_CSO'].astype('Int64')\nexercicio6['CD_NVL_CSO'] = exercicio6['CD_NVL_CSO'].astype('Int64')\nexercicio6['CD_NTZ_CSO'] = exercicio6['CD_NTZ_CSO'].astype('Int64')\nexercicio6['CD_TIP_OGM_CSO'] = exercicio6['CD_TIP_OGM_CSO'].astype('Int64')\nexercicio6['CD_TIP_PBCO'] = exercicio6['CD_TIP_PBCO'].astype('Int64')\nexercicio6['IN_VGC_CSO'] = exercicio6['IN_VGC_CSO'].astype('object')\nexercicio6['IN_TRLA_ESTG'] = exercicio6['IN_TRLA_ESTG'].astype('object')\nexercicio6['Etapa'] = exercicio6['Etapa'].astype('object')",
      "metadata": {
        "trusted": true
      },
      "outputs": [],
      "execution_count": 36
    },
    {
      "id": "0954f13a-71d8-4d35-99ed-0d0a29e6af01",
      "cell_type": "code",
      "source": "exercicio6",
      "metadata": {
        "trusted": true
      },
      "outputs": [
        {
          "execution_count": 37,
          "output_type": "execute_result",
          "data": {
            "text/plain": "         CD_CSO                                             NM_CSO  \\\n0             1                                        TESTE EDUCA   \n1             1                                        TESTE EDUCA   \n2             1                                        TESTE EDUCA   \n3             1                                        TESTE EDUCA   \n4             1                                        TESTE EDUCA   \n...         ...                                                ...   \n1061606   62988  MIGRADO  CRH/GTD                              ...   \n1061607   62988  MIGRADO  CRH/GTD                              ...   \n1061608   62988  MIGRADO  CRH/GTD                              ...   \n1061609   62988  MIGRADO  CRH/GTD                              ...   \n1061610   62988  MIGRADO  CRH/GTD                              ...   \n\n                                                    TX_CSO  \\\n0        EDUCA TESTE PRESENCIAL                        ...   \n1        EDUCA TESTE PRESENCIAL                        ...   \n2        EDUCA TESTE PRESENCIAL                        ...   \n3        EDUCA TESTE PRESENCIAL                        ...   \n4        EDUCA TESTE PRESENCIAL                        ...   \n...                                                    ...   \n1061606  ESPECIALIZACAO EM GESTAO DE MARKETING E RECURS...   \n1061607  ESPECIALIZACAO EM GESTAO DE MARKETING E RECURS...   \n1061608  ESPECIALIZACAO EM GESTAO DE MARKETING E RECURS...   \n1061609  ESPECIALIZACAO EM GESTAO DE MARKETING E RECURS...   \n1061610  ESPECIALIZACAO EM GESTAO DE MARKETING E RECURS...   \n\n                                               TX_OBJT_CSO  \\\n0                                              TESTE EDUCA   \n1                                              TESTE EDUCA   \n2                                              TESTE EDUCA   \n3                                              TESTE EDUCA   \n4                                              TESTE EDUCA   \n...                                                    ...   \n1061606  MIGRADO  CRH/GTD                              ...   \n1061607  MIGRADO  CRH/GTD                              ...   \n1061608  MIGRADO  CRH/GTD                              ...   \n1061609  MIGRADO  CRH/GTD                              ...   \n1061610  MIGRADO  CRH/GTD                              ...   \n\n                                              TX_DSMP_EPRO  \\\n0                                              TESTE EDUCA   \n1                                              TESTE EDUCA   \n2                                              TESTE EDUCA   \n3                                              TESTE EDUCA   \n4                                              TESTE EDUCA   \n...                                                    ...   \n1061606  MIGRADO  CRH/GTD                              ...   \n1061607  MIGRADO  CRH/GTD                              ...   \n1061608  MIGRADO  CRH/GTD                              ...   \n1061609  MIGRADO  CRH/GTD                              ...   \n1061610  MIGRADO  CRH/GTD                              ...   \n\n                                              TX_OBJT_ESTG  CD_AREA_CNH  \\\n0                                              TESTE EDUCA           10   \n1                                              TESTE EDUCA           10   \n2                                              TESTE EDUCA           10   \n3                                              TESTE EDUCA           10   \n4                                              TESTE EDUCA           10   \n...                                                    ...          ...   \n1061606  MIGRADO  CRH/GTD                              ...           10   \n1061607  MIGRADO  CRH/GTD                              ...           10   \n1061608  MIGRADO  CRH/GTD                              ...           10   \n1061609  MIGRADO  CRH/GTD                              ...           10   \n1061610  MIGRADO  CRH/GTD                              ...           10   \n\n                                               NM_AREA_CNH  CD_SUB_AREA_CNH  \\\n0        AREA DE ADMINISTRACAO                         ...                1   \n1        AREA DE ADMINISTRACAO                         ...                1   \n2        AREA DE ADMINISTRACAO                         ...                1   \n3        AREA DE ADMINISTRACAO                         ...                1   \n4        AREA DE ADMINISTRACAO                         ...                1   \n...                                                    ...              ...   \n1061606  AREA DE ADMINISTRACAO                         ...                1   \n1061607  AREA DE ADMINISTRACAO                         ...                1   \n1061608  AREA DE ADMINISTRACAO                         ...                1   \n1061609  AREA DE ADMINISTRACAO                         ...                1   \n1061610  AREA DE ADMINISTRACAO                         ...                1   \n\n                                           NM_SUB_AREA_CNH  ...  \\\n0        ADMINISTRACAO DE EMPRESAS                     ...  ...   \n1        ADM. - COMERCIO EXTERIOR                      ...  ...   \n2        ADM. - FINANCAS INTERNACIONAIS                ...  ...   \n3        ADM. FINANCEIRA                               ...  ...   \n4        ADMINISTRACAO HOSPITALAR                      ...  ...   \n...                                                    ...  ...   \n1061606  GOVERNANCA CORPORATIVA                        ...  ...   \n1061607  ADM. - GESTAO DE OBRAS                        ...  ...   \n1061608  ADM. - GESTAO CONTABIL                        ...  ...   \n1061609  ADM. - IMOBILIARIO                            ...  ...   \n1061610  NEGÓCIOS                                      ...  ...   \n\n         CD_TIP_FRMC_SUPR                TX_TIP_FRMC_SUPR  CD_MDLD_CSO  \\\n0                    <NA>                             NaN            1   \n1                    <NA>                             NaN            1   \n2                    <NA>                             NaN            1   \n3                    <NA>                             NaN            1   \n4                    <NA>                             NaN            1   \n...                   ...                             ...          ...   \n1061606                35  POS-GRADUACAO LATO SENSU                  9   \n1061607                35  POS-GRADUACAO LATO SENSU                  9   \n1061608                35  POS-GRADUACAO LATO SENSU                  9   \n1061609                35  POS-GRADUACAO LATO SENSU                  9   \n1061610                35  POS-GRADUACAO LATO SENSU                  9   \n\n         CD_NVL_CSO CD_NTZ_CSO  CD_TIP_OGM_CSO  CD_TIP_PBCO  IN_VGC_CSO  \\\n0                 1          1               1            3           N   \n1                 1          1               1            3           N   \n2                 1          1               1            3           N   \n3                 1          1               1            3           N   \n4                 1          1               1            3           N   \n...             ...        ...             ...          ...         ...   \n1061606           4          2               2            3           S   \n1061607           4          2               2            3           S   \n1061608           4          2               2            3           S   \n1061609           4          2               2            3           S   \n1061610           4          2               2            3           S   \n\n         IN_TRLA_ESTG  Etapa  \n0                   N    NaN  \n1                   N    NaN  \n2                   N    NaN  \n3                   N    NaN  \n4                   N    NaN  \n...               ...    ...  \n1061606             N    NaN  \n1061607             N    NaN  \n1061608             N    NaN  \n1061609             N    NaN  \n1061610             N    NaN  \n\n[1061611 rows x 23 columns]",
            "text/html": "<div>\n<style scoped>\n    .dataframe tbody tr th:only-of-type {\n        vertical-align: middle;\n    }\n\n    .dataframe tbody tr th {\n        vertical-align: top;\n    }\n\n    .dataframe thead th {\n        text-align: right;\n    }\n</style>\n<table border=\"1\" class=\"dataframe\">\n  <thead>\n    <tr style=\"text-align: right;\">\n      <th></th>\n      <th>CD_CSO</th>\n      <th>NM_CSO</th>\n      <th>TX_CSO</th>\n      <th>TX_OBJT_CSO</th>\n      <th>TX_DSMP_EPRO</th>\n      <th>TX_OBJT_ESTG</th>\n      <th>CD_AREA_CNH</th>\n      <th>NM_AREA_CNH</th>\n      <th>CD_SUB_AREA_CNH</th>\n      <th>NM_SUB_AREA_CNH</th>\n      <th>...</th>\n      <th>CD_TIP_FRMC_SUPR</th>\n      <th>TX_TIP_FRMC_SUPR</th>\n      <th>CD_MDLD_CSO</th>\n      <th>CD_NVL_CSO</th>\n      <th>CD_NTZ_CSO</th>\n      <th>CD_TIP_OGM_CSO</th>\n      <th>CD_TIP_PBCO</th>\n      <th>IN_VGC_CSO</th>\n      <th>IN_TRLA_ESTG</th>\n      <th>Etapa</th>\n    </tr>\n  </thead>\n  <tbody>\n    <tr>\n      <th>0</th>\n      <td>1</td>\n      <td>TESTE EDUCA</td>\n      <td>EDUCA TESTE PRESENCIAL                        ...</td>\n      <td>TESTE EDUCA</td>\n      <td>TESTE EDUCA</td>\n      <td>TESTE EDUCA</td>\n      <td>10</td>\n      <td>AREA DE ADMINISTRACAO                         ...</td>\n      <td>1</td>\n      <td>ADMINISTRACAO DE EMPRESAS                     ...</td>\n      <td>...</td>\n      <td>&lt;NA&gt;</td>\n      <td>NaN</td>\n      <td>1</td>\n      <td>1</td>\n      <td>1</td>\n      <td>1</td>\n      <td>3</td>\n      <td>N</td>\n      <td>N</td>\n      <td>NaN</td>\n    </tr>\n    <tr>\n      <th>1</th>\n      <td>1</td>\n      <td>TESTE EDUCA</td>\n      <td>EDUCA TESTE PRESENCIAL                        ...</td>\n      <td>TESTE EDUCA</td>\n      <td>TESTE EDUCA</td>\n      <td>TESTE EDUCA</td>\n      <td>10</td>\n      <td>AREA DE ADMINISTRACAO                         ...</td>\n      <td>1</td>\n      <td>ADM. - COMERCIO EXTERIOR                      ...</td>\n      <td>...</td>\n      <td>&lt;NA&gt;</td>\n      <td>NaN</td>\n      <td>1</td>\n      <td>1</td>\n      <td>1</td>\n      <td>1</td>\n      <td>3</td>\n      <td>N</td>\n      <td>N</td>\n      <td>NaN</td>\n    </tr>\n    <tr>\n      <th>2</th>\n      <td>1</td>\n      <td>TESTE EDUCA</td>\n      <td>EDUCA TESTE PRESENCIAL                        ...</td>\n      <td>TESTE EDUCA</td>\n      <td>TESTE EDUCA</td>\n      <td>TESTE EDUCA</td>\n      <td>10</td>\n      <td>AREA DE ADMINISTRACAO                         ...</td>\n      <td>1</td>\n      <td>ADM. - FINANCAS INTERNACIONAIS                ...</td>\n      <td>...</td>\n      <td>&lt;NA&gt;</td>\n      <td>NaN</td>\n      <td>1</td>\n      <td>1</td>\n      <td>1</td>\n      <td>1</td>\n      <td>3</td>\n      <td>N</td>\n      <td>N</td>\n      <td>NaN</td>\n    </tr>\n    <tr>\n      <th>3</th>\n      <td>1</td>\n      <td>TESTE EDUCA</td>\n      <td>EDUCA TESTE PRESENCIAL                        ...</td>\n      <td>TESTE EDUCA</td>\n      <td>TESTE EDUCA</td>\n      <td>TESTE EDUCA</td>\n      <td>10</td>\n      <td>AREA DE ADMINISTRACAO                         ...</td>\n      <td>1</td>\n      <td>ADM. FINANCEIRA                               ...</td>\n      <td>...</td>\n      <td>&lt;NA&gt;</td>\n      <td>NaN</td>\n      <td>1</td>\n      <td>1</td>\n      <td>1</td>\n      <td>1</td>\n      <td>3</td>\n      <td>N</td>\n      <td>N</td>\n      <td>NaN</td>\n    </tr>\n    <tr>\n      <th>4</th>\n      <td>1</td>\n      <td>TESTE EDUCA</td>\n      <td>EDUCA TESTE PRESENCIAL                        ...</td>\n      <td>TESTE EDUCA</td>\n      <td>TESTE EDUCA</td>\n      <td>TESTE EDUCA</td>\n      <td>10</td>\n      <td>AREA DE ADMINISTRACAO                         ...</td>\n      <td>1</td>\n      <td>ADMINISTRACAO HOSPITALAR                      ...</td>\n      <td>...</td>\n      <td>&lt;NA&gt;</td>\n      <td>NaN</td>\n      <td>1</td>\n      <td>1</td>\n      <td>1</td>\n      <td>1</td>\n      <td>3</td>\n      <td>N</td>\n      <td>N</td>\n      <td>NaN</td>\n    </tr>\n    <tr>\n      <th>...</th>\n      <td>...</td>\n      <td>...</td>\n      <td>...</td>\n      <td>...</td>\n      <td>...</td>\n      <td>...</td>\n      <td>...</td>\n      <td>...</td>\n      <td>...</td>\n      <td>...</td>\n      <td>...</td>\n      <td>...</td>\n      <td>...</td>\n      <td>...</td>\n      <td>...</td>\n      <td>...</td>\n      <td>...</td>\n      <td>...</td>\n      <td>...</td>\n      <td>...</td>\n      <td>...</td>\n    </tr>\n    <tr>\n      <th>1061606</th>\n      <td>62988</td>\n      <td>MIGRADO  CRH/GTD                              ...</td>\n      <td>ESPECIALIZACAO EM GESTAO DE MARKETING E RECURS...</td>\n      <td>MIGRADO  CRH/GTD                              ...</td>\n      <td>MIGRADO  CRH/GTD                              ...</td>\n      <td>MIGRADO  CRH/GTD                              ...</td>\n      <td>10</td>\n      <td>AREA DE ADMINISTRACAO                         ...</td>\n      <td>1</td>\n      <td>GOVERNANCA CORPORATIVA                        ...</td>\n      <td>...</td>\n      <td>35</td>\n      <td>POS-GRADUACAO LATO SENSU</td>\n      <td>9</td>\n      <td>4</td>\n      <td>2</td>\n      <td>2</td>\n      <td>3</td>\n      <td>S</td>\n      <td>N</td>\n      <td>NaN</td>\n    </tr>\n    <tr>\n      <th>1061607</th>\n      <td>62988</td>\n      <td>MIGRADO  CRH/GTD                              ...</td>\n      <td>ESPECIALIZACAO EM GESTAO DE MARKETING E RECURS...</td>\n      <td>MIGRADO  CRH/GTD                              ...</td>\n      <td>MIGRADO  CRH/GTD                              ...</td>\n      <td>MIGRADO  CRH/GTD                              ...</td>\n      <td>10</td>\n      <td>AREA DE ADMINISTRACAO                         ...</td>\n      <td>1</td>\n      <td>ADM. - GESTAO DE OBRAS                        ...</td>\n      <td>...</td>\n      <td>35</td>\n      <td>POS-GRADUACAO LATO SENSU</td>\n      <td>9</td>\n      <td>4</td>\n      <td>2</td>\n      <td>2</td>\n      <td>3</td>\n      <td>S</td>\n      <td>N</td>\n      <td>NaN</td>\n    </tr>\n    <tr>\n      <th>1061608</th>\n      <td>62988</td>\n      <td>MIGRADO  CRH/GTD                              ...</td>\n      <td>ESPECIALIZACAO EM GESTAO DE MARKETING E RECURS...</td>\n      <td>MIGRADO  CRH/GTD                              ...</td>\n      <td>MIGRADO  CRH/GTD                              ...</td>\n      <td>MIGRADO  CRH/GTD                              ...</td>\n      <td>10</td>\n      <td>AREA DE ADMINISTRACAO                         ...</td>\n      <td>1</td>\n      <td>ADM. - GESTAO CONTABIL                        ...</td>\n      <td>...</td>\n      <td>35</td>\n      <td>POS-GRADUACAO LATO SENSU</td>\n      <td>9</td>\n      <td>4</td>\n      <td>2</td>\n      <td>2</td>\n      <td>3</td>\n      <td>S</td>\n      <td>N</td>\n      <td>NaN</td>\n    </tr>\n    <tr>\n      <th>1061609</th>\n      <td>62988</td>\n      <td>MIGRADO  CRH/GTD                              ...</td>\n      <td>ESPECIALIZACAO EM GESTAO DE MARKETING E RECURS...</td>\n      <td>MIGRADO  CRH/GTD                              ...</td>\n      <td>MIGRADO  CRH/GTD                              ...</td>\n      <td>MIGRADO  CRH/GTD                              ...</td>\n      <td>10</td>\n      <td>AREA DE ADMINISTRACAO                         ...</td>\n      <td>1</td>\n      <td>ADM. - IMOBILIARIO                            ...</td>\n      <td>...</td>\n      <td>35</td>\n      <td>POS-GRADUACAO LATO SENSU</td>\n      <td>9</td>\n      <td>4</td>\n      <td>2</td>\n      <td>2</td>\n      <td>3</td>\n      <td>S</td>\n      <td>N</td>\n      <td>NaN</td>\n    </tr>\n    <tr>\n      <th>1061610</th>\n      <td>62988</td>\n      <td>MIGRADO  CRH/GTD                              ...</td>\n      <td>ESPECIALIZACAO EM GESTAO DE MARKETING E RECURS...</td>\n      <td>MIGRADO  CRH/GTD                              ...</td>\n      <td>MIGRADO  CRH/GTD                              ...</td>\n      <td>MIGRADO  CRH/GTD                              ...</td>\n      <td>10</td>\n      <td>AREA DE ADMINISTRACAO                         ...</td>\n      <td>1</td>\n      <td>NEGÓCIOS                                      ...</td>\n      <td>...</td>\n      <td>35</td>\n      <td>POS-GRADUACAO LATO SENSU</td>\n      <td>9</td>\n      <td>4</td>\n      <td>2</td>\n      <td>2</td>\n      <td>3</td>\n      <td>S</td>\n      <td>N</td>\n      <td>NaN</td>\n    </tr>\n  </tbody>\n</table>\n<p>1061611 rows × 23 columns</p>\n</div>"
          },
          "metadata": {}
        }
      ],
      "execution_count": 37
    },
    {
      "id": "74ae8405-17db-4826-9a83-48553435f350",
      "cell_type": "markdown",
      "source": "# Exercício 7 - Nova tabela de UOR\n\n<b>Nível de dificuldade (1 a 5):</b> 4\n\n<b>Requisitos:</b> exercícios 1 e 2\n\nCriar um DataFrame Pandas chamado <b>exercicio7</b> contendo as informações das UOR e Vice-Presidência jurisdicionante, conforme abaixo:\n\n||Nome Lógico|Nome Físico|Formato|Descrição|Aceita Nulos|Tabela Origem|Atributo Origem|\n|---|---|---|---|---|---|---|---|\n|1|Código da Dependência da Unidade Organizacional|?|Int64|Código identificador de Dependências de Instituições Organizacionais. No BB atualmente é utilizado os domínios entre 1 e 9999.|N|?|?\n|2|Código da Unidade Organizacional|?|Int64|Código identificador de Unidade Organizacional (UOR) do conglomerado Banco do Brasil (no Brasil e Exterior) ou UOR externas que o BB tenha algum tipo de relacionamento ou interesse em identificá-las.|N|?|?\n|3|Sigla da Unidade Organizacional|?|object|Reunião das letras iniciais dos vocábulos fundamentais de uma denominação ou título, sem articulação prosódica, constituindo meras abreviaturas. Ex.: \"DITEC\", \"GBASE\", \"DIREO\", \"PRESI\", etc.|S|?|?\n|4|Nome da Unidade Organizacional Reduzido|?|object|Nome reduzido da Unidade Organizacional.|N|?|?\n|5|Código da Dependência da Vice-Presidência|?|Int64|Código identificador da Dependência da Vice-Presidência jurisdicionante da UOR.|S|?|?\n|6|Sigla da Vice-Presidência|?|object|Sigla da Vice-Presidência jurisdicionante da UOR.|S|?|?\n\n<b>Regra:</b> considere apenas as UORs cujo Item de Arquitetura corresponda a \"DIRETORIA\" ou \"UNIDADE\".\n\n<b>Dica:</b> atenção no momento de fazer a junção das tabelas de UOR e Vínculo de UOR. Lembrando que uma mesma dependência possui várias UORs além da principal. Consulte a documentação das tabelas.",
      "metadata": {
        "tags": []
      }
    },
    {
      "id": "13ce2e79-a47f-44b0-9c51-07c4314eff31",
      "cell_type": "code",
      "source": "# Lista para armazenar os DataFrames lidos\ndfs = []\n\n# Loop para ler todos os arquivos uor01.zip até uor12.zip\nfor i in range(1, 13):\n    # Formata o nome do arquivo com base no número\n    arquivo_zip = f\"bases/UOR/uor{i:02d}.zip\"\n    \n    # Lê o arquivo zip e adiciona ao final da lista\n    df = pd.read_csv(arquivo_zip, compression='zip', sep=',')\n    dfs.append(df)\n\n# Concatena todos os DataFrames em um único DataFrame\nexercicio7 = pd.concat(dfs, ignore_index=True)",
      "metadata": {
        "trusted": true
      },
      "outputs": [],
      "execution_count": 42
    },
    {
      "id": "46c48937-8d63-4241-8a4c-4d8a3ec4be14",
      "cell_type": "code",
      "source": "exercicio7.columns",
      "metadata": {
        "trusted": true
      },
      "outputs": [
        {
          "execution_count": 43,
          "output_type": "execute_result",
          "data": {
            "text/plain": "Index(['CD_UOR', 'CD_IOR', 'NM_UOR_RDZ', 'NM_UOR', 'DT_INC_VLD', 'DT_FIM_VLD',\n       'DT_ATL', 'HR_ATL', 'CD_RSP_ATL', 'CD_ITEM_AQTT_UOR', 'CD_TIP_UOR',\n       'CD_EST_UOR', 'CD_PSS_UOR', 'NR_CNPJ_UOR', 'SG_UOR', 'IN_RST_ACSS_PSS',\n       'IN_UOR_UNCO_MUN', 'DT_INC_ATVD_UOR', 'DT_PRVT_ECR_UOR',\n       'CD_ENT_LCZC_UOR', 'CD_DEPE_UOR', 'NR_ORD_DEPE_SBDD', 'DV_CD_DEPE_UOR'],\n      dtype='object')"
          },
          "metadata": {}
        }
      ],
      "execution_count": 43
    },
    {
      "id": "d9e51f43-a48b-4b22-ba9d-06e9994210ce",
      "cell_type": "code",
      "source": "exercicio7 = exercicio7[['CD_DEPE_UOR', 'CD_UOR', 'SG_UOR', 'NM_UOR_RDZ']]",
      "metadata": {
        "trusted": true
      },
      "outputs": [],
      "execution_count": 5
    },
    {
      "id": "014f1247-24e6-4667-a29d-8a86076c0028",
      "cell_type": "code",
      "source": "exercicio2",
      "metadata": {
        "trusted": true
      },
      "outputs": [
        {
          "execution_count": 19,
          "output_type": "execute_result",
          "data": {
            "text/plain": "       CD_UOR            NM_UOR_RDZ      SG_UOR DT_INC_VLD  CD_ITEM_AQTT_UOR  \\\n0           1  RIO                          NaN 1936-05-02                54   \n2           3  MANAUS                       NaN 1908-01-14                54   \n3           4  PRESIDENTE VARGAS            NaN 1908-07-01                54   \n4           5  SANTOS                       NaN 1908-08-22                54   \n6           7  CAMPOS GOYTACAZES            NaN 1910-06-26                54   \n...       ...                   ...         ...        ...               ...   \n88327   88328  DIOPE/ATAC COMEX MPE             2019-10-07                 5   \n88328   88329  CENOP N PF/CONSORCIO             2021-04-07                96   \n88330   88331  USI/GESAE                        2022-07-05                 5   \n88331   88332  DITEC/GECAP6/G6                  2023-09-06                 5   \n88332   88333  DITEC/PROC. DE TI                2024-05-03                 5   \n\n       CD_TIP_UOR  CD_DEPE_UOR  NR_ORD_DEPE_SBDD  CD_IOR CD_EST_UOR  \n0               4            1                 0       1          2  \n2               4            2                 0       1          2  \n3               4            3                 0       1          2  \n4               4            4                 0       1          2  \n6               4            5                 0       1          2  \n...           ...          ...               ...     ...        ...  \n88327           4         9600                99       1          2  \n88328           4         3901                99       1          2  \n88330           4         8896                99       1          2  \n88331           4         9909                99       1          2  \n88332           4         9903                99       1          2  \n\n[43005 rows x 10 columns]",
            "text/html": "<div>\n<style scoped>\n    .dataframe tbody tr th:only-of-type {\n        vertical-align: middle;\n    }\n\n    .dataframe tbody tr th {\n        vertical-align: top;\n    }\n\n    .dataframe thead th {\n        text-align: right;\n    }\n</style>\n<table border=\"1\" class=\"dataframe\">\n  <thead>\n    <tr style=\"text-align: right;\">\n      <th></th>\n      <th>CD_UOR</th>\n      <th>NM_UOR_RDZ</th>\n      <th>SG_UOR</th>\n      <th>DT_INC_VLD</th>\n      <th>CD_ITEM_AQTT_UOR</th>\n      <th>CD_TIP_UOR</th>\n      <th>CD_DEPE_UOR</th>\n      <th>NR_ORD_DEPE_SBDD</th>\n      <th>CD_IOR</th>\n      <th>CD_EST_UOR</th>\n    </tr>\n  </thead>\n  <tbody>\n    <tr>\n      <th>0</th>\n      <td>1</td>\n      <td>RIO</td>\n      <td>NaN</td>\n      <td>1936-05-02</td>\n      <td>54</td>\n      <td>4</td>\n      <td>1</td>\n      <td>0</td>\n      <td>1</td>\n      <td>2</td>\n    </tr>\n    <tr>\n      <th>2</th>\n      <td>3</td>\n      <td>MANAUS</td>\n      <td>NaN</td>\n      <td>1908-01-14</td>\n      <td>54</td>\n      <td>4</td>\n      <td>2</td>\n      <td>0</td>\n      <td>1</td>\n      <td>2</td>\n    </tr>\n    <tr>\n      <th>3</th>\n      <td>4</td>\n      <td>PRESIDENTE VARGAS</td>\n      <td>NaN</td>\n      <td>1908-07-01</td>\n      <td>54</td>\n      <td>4</td>\n      <td>3</td>\n      <td>0</td>\n      <td>1</td>\n      <td>2</td>\n    </tr>\n    <tr>\n      <th>4</th>\n      <td>5</td>\n      <td>SANTOS</td>\n      <td>NaN</td>\n      <td>1908-08-22</td>\n      <td>54</td>\n      <td>4</td>\n      <td>4</td>\n      <td>0</td>\n      <td>1</td>\n      <td>2</td>\n    </tr>\n    <tr>\n      <th>6</th>\n      <td>7</td>\n      <td>CAMPOS GOYTACAZES</td>\n      <td>NaN</td>\n      <td>1910-06-26</td>\n      <td>54</td>\n      <td>4</td>\n      <td>5</td>\n      <td>0</td>\n      <td>1</td>\n      <td>2</td>\n    </tr>\n    <tr>\n      <th>...</th>\n      <td>...</td>\n      <td>...</td>\n      <td>...</td>\n      <td>...</td>\n      <td>...</td>\n      <td>...</td>\n      <td>...</td>\n      <td>...</td>\n      <td>...</td>\n      <td>...</td>\n    </tr>\n    <tr>\n      <th>88327</th>\n      <td>88328</td>\n      <td>DIOPE/ATAC COMEX MPE</td>\n      <td></td>\n      <td>2019-10-07</td>\n      <td>5</td>\n      <td>4</td>\n      <td>9600</td>\n      <td>99</td>\n      <td>1</td>\n      <td>2</td>\n    </tr>\n    <tr>\n      <th>88328</th>\n      <td>88329</td>\n      <td>CENOP N PF/CONSORCIO</td>\n      <td></td>\n      <td>2021-04-07</td>\n      <td>96</td>\n      <td>4</td>\n      <td>3901</td>\n      <td>99</td>\n      <td>1</td>\n      <td>2</td>\n    </tr>\n    <tr>\n      <th>88330</th>\n      <td>88331</td>\n      <td>USI/GESAE</td>\n      <td></td>\n      <td>2022-07-05</td>\n      <td>5</td>\n      <td>4</td>\n      <td>8896</td>\n      <td>99</td>\n      <td>1</td>\n      <td>2</td>\n    </tr>\n    <tr>\n      <th>88331</th>\n      <td>88332</td>\n      <td>DITEC/GECAP6/G6</td>\n      <td></td>\n      <td>2023-09-06</td>\n      <td>5</td>\n      <td>4</td>\n      <td>9909</td>\n      <td>99</td>\n      <td>1</td>\n      <td>2</td>\n    </tr>\n    <tr>\n      <th>88332</th>\n      <td>88333</td>\n      <td>DITEC/PROC. DE TI</td>\n      <td></td>\n      <td>2024-05-03</td>\n      <td>5</td>\n      <td>4</td>\n      <td>9903</td>\n      <td>99</td>\n      <td>1</td>\n      <td>2</td>\n    </tr>\n  </tbody>\n</table>\n<p>43005 rows × 10 columns</p>\n</div>"
          },
          "metadata": {}
        }
      ],
      "execution_count": 19
    },
    {
      "id": "9250eab1-17f4-4b07-8e1a-fb30e75201f0",
      "cell_type": "code",
      "source": "item_arqtt = pd.read_csv('bases/ITEM_AQTT_UOR.csv', sep=\",\")\n",
      "metadata": {
        "trusted": true
      },
      "outputs": [],
      "execution_count": 6
    },
    {
      "id": "36b54f61-2da0-400b-82a6-034657897251",
      "cell_type": "code",
      "source": "tipo_vinculo = pd.read_csv('bases/TIP_VCL.csv', sep=\",\")\n",
      "metadata": {
        "trusted": true
      },
      "outputs": [],
      "execution_count": 7
    },
    {
      "id": "8f1e85d6-323f-4f43-9cac-c176cbbc545e",
      "cell_type": "code",
      "source": "vinculo_uor = pd.read_csv('bases/VCL_UOR.csv', sep=\";\")",
      "metadata": {
        "trusted": true
      },
      "outputs": [],
      "execution_count": 59
    },
    {
      "id": "867aaee3-b782-4a8f-a614-5989977a6834",
      "cell_type": "code",
      "source": "teste = pd.merge(exercicio2, vinculo_uor, left_on='CD_UOR', right_on='CD_UOR_VCLD', how='left')\nteste",
      "metadata": {
        "trusted": true
      },
      "outputs": [
        {
          "execution_count": 68,
          "output_type": "execute_result",
          "data": {
            "text/plain": "       CD_UOR            NM_UOR_RDZ      SG_UOR DT_INC_VLD  CD_ITEM_AQTT_UOR  \\\n0           1  RIO                          NaN 1936-05-02                54   \n1           3  MANAUS                       NaN 1908-01-14                54   \n2           4  PRESIDENTE VARGAS            NaN 1908-07-01                54   \n3           5  SANTOS                       NaN 1908-08-22                54   \n4           7  CAMPOS GOYTACAZES            NaN 1910-06-26                54   \n...       ...                   ...         ...        ...               ...   \n76267   88333  DITEC/PROC. DE TI                2024-05-03                 5   \n76268   88333  DITEC/PROC. DE TI                2024-05-03                 5   \n76269   88333  DITEC/PROC. DE TI                2024-05-03                 5   \n76270   88333  DITEC/PROC. DE TI                2024-05-03                 5   \n76271   88333  DITEC/PROC. DE TI                2024-05-03                 5   \n\n       CD_TIP_UOR  CD_DEPE_UOR  NR_ORD_DEPE_SBDD  CD_IOR CD_EST_UOR  \\\n0               4            1                 0       1          2   \n1               4            2                 0       1          2   \n2               4            3                 0       1          2   \n3               4            4                 0       1          2   \n4               4            5                 0       1          2   \n...           ...          ...               ...     ...        ...   \n76267           4         9903                99       1          2   \n76268           4         9903                99       1          2   \n76269           4         9903                99       1          2   \n76270           4         9903                99       1          2   \n76271           4         9903                99       1          2   \n\n       CD_UOR_VCLD  CD_TIP_VCL  CD_UOR_VCLR  NR_ITVL_NVL_HRQO  \n0              NaN         NaN          NaN               NaN  \n1              NaN         NaN          NaN               NaN  \n2              NaN         NaN          NaN               NaN  \n3              NaN         NaN          NaN               NaN  \n4              NaN         NaN          NaN               NaN  \n...            ...         ...          ...               ...  \n76267      88333.0      2819.0       7635.0               NaN  \n76268      88333.0      9191.0       6411.0               1.0  \n76269      88333.0      9198.0      46973.0               5.0  \n76270      88333.0      9199.0       4922.0               4.0  \n76271      88333.0      9202.0       4910.0               3.0  \n\n[76272 rows x 14 columns]",
            "text/html": "<div>\n<style scoped>\n    .dataframe tbody tr th:only-of-type {\n        vertical-align: middle;\n    }\n\n    .dataframe tbody tr th {\n        vertical-align: top;\n    }\n\n    .dataframe thead th {\n        text-align: right;\n    }\n</style>\n<table border=\"1\" class=\"dataframe\">\n  <thead>\n    <tr style=\"text-align: right;\">\n      <th></th>\n      <th>CD_UOR</th>\n      <th>NM_UOR_RDZ</th>\n      <th>SG_UOR</th>\n      <th>DT_INC_VLD</th>\n      <th>CD_ITEM_AQTT_UOR</th>\n      <th>CD_TIP_UOR</th>\n      <th>CD_DEPE_UOR</th>\n      <th>NR_ORD_DEPE_SBDD</th>\n      <th>CD_IOR</th>\n      <th>CD_EST_UOR</th>\n      <th>CD_UOR_VCLD</th>\n      <th>CD_TIP_VCL</th>\n      <th>CD_UOR_VCLR</th>\n      <th>NR_ITVL_NVL_HRQO</th>\n    </tr>\n  </thead>\n  <tbody>\n    <tr>\n      <th>0</th>\n      <td>1</td>\n      <td>RIO</td>\n      <td>NaN</td>\n      <td>1936-05-02</td>\n      <td>54</td>\n      <td>4</td>\n      <td>1</td>\n      <td>0</td>\n      <td>1</td>\n      <td>2</td>\n      <td>NaN</td>\n      <td>NaN</td>\n      <td>NaN</td>\n      <td>NaN</td>\n    </tr>\n    <tr>\n      <th>1</th>\n      <td>3</td>\n      <td>MANAUS</td>\n      <td>NaN</td>\n      <td>1908-01-14</td>\n      <td>54</td>\n      <td>4</td>\n      <td>2</td>\n      <td>0</td>\n      <td>1</td>\n      <td>2</td>\n      <td>NaN</td>\n      <td>NaN</td>\n      <td>NaN</td>\n      <td>NaN</td>\n    </tr>\n    <tr>\n      <th>2</th>\n      <td>4</td>\n      <td>PRESIDENTE VARGAS</td>\n      <td>NaN</td>\n      <td>1908-07-01</td>\n      <td>54</td>\n      <td>4</td>\n      <td>3</td>\n      <td>0</td>\n      <td>1</td>\n      <td>2</td>\n      <td>NaN</td>\n      <td>NaN</td>\n      <td>NaN</td>\n      <td>NaN</td>\n    </tr>\n    <tr>\n      <th>3</th>\n      <td>5</td>\n      <td>SANTOS</td>\n      <td>NaN</td>\n      <td>1908-08-22</td>\n      <td>54</td>\n      <td>4</td>\n      <td>4</td>\n      <td>0</td>\n      <td>1</td>\n      <td>2</td>\n      <td>NaN</td>\n      <td>NaN</td>\n      <td>NaN</td>\n      <td>NaN</td>\n    </tr>\n    <tr>\n      <th>4</th>\n      <td>7</td>\n      <td>CAMPOS GOYTACAZES</td>\n      <td>NaN</td>\n      <td>1910-06-26</td>\n      <td>54</td>\n      <td>4</td>\n      <td>5</td>\n      <td>0</td>\n      <td>1</td>\n      <td>2</td>\n      <td>NaN</td>\n      <td>NaN</td>\n      <td>NaN</td>\n      <td>NaN</td>\n    </tr>\n    <tr>\n      <th>...</th>\n      <td>...</td>\n      <td>...</td>\n      <td>...</td>\n      <td>...</td>\n      <td>...</td>\n      <td>...</td>\n      <td>...</td>\n      <td>...</td>\n      <td>...</td>\n      <td>...</td>\n      <td>...</td>\n      <td>...</td>\n      <td>...</td>\n      <td>...</td>\n    </tr>\n    <tr>\n      <th>76267</th>\n      <td>88333</td>\n      <td>DITEC/PROC. DE TI</td>\n      <td></td>\n      <td>2024-05-03</td>\n      <td>5</td>\n      <td>4</td>\n      <td>9903</td>\n      <td>99</td>\n      <td>1</td>\n      <td>2</td>\n      <td>88333.0</td>\n      <td>2819.0</td>\n      <td>7635.0</td>\n      <td>NaN</td>\n    </tr>\n    <tr>\n      <th>76268</th>\n      <td>88333</td>\n      <td>DITEC/PROC. DE TI</td>\n      <td></td>\n      <td>2024-05-03</td>\n      <td>5</td>\n      <td>4</td>\n      <td>9903</td>\n      <td>99</td>\n      <td>1</td>\n      <td>2</td>\n      <td>88333.0</td>\n      <td>9191.0</td>\n      <td>6411.0</td>\n      <td>1.0</td>\n    </tr>\n    <tr>\n      <th>76269</th>\n      <td>88333</td>\n      <td>DITEC/PROC. DE TI</td>\n      <td></td>\n      <td>2024-05-03</td>\n      <td>5</td>\n      <td>4</td>\n      <td>9903</td>\n      <td>99</td>\n      <td>1</td>\n      <td>2</td>\n      <td>88333.0</td>\n      <td>9198.0</td>\n      <td>46973.0</td>\n      <td>5.0</td>\n    </tr>\n    <tr>\n      <th>76270</th>\n      <td>88333</td>\n      <td>DITEC/PROC. DE TI</td>\n      <td></td>\n      <td>2024-05-03</td>\n      <td>5</td>\n      <td>4</td>\n      <td>9903</td>\n      <td>99</td>\n      <td>1</td>\n      <td>2</td>\n      <td>88333.0</td>\n      <td>9199.0</td>\n      <td>4922.0</td>\n      <td>4.0</td>\n    </tr>\n    <tr>\n      <th>76271</th>\n      <td>88333</td>\n      <td>DITEC/PROC. DE TI</td>\n      <td></td>\n      <td>2024-05-03</td>\n      <td>5</td>\n      <td>4</td>\n      <td>9903</td>\n      <td>99</td>\n      <td>1</td>\n      <td>2</td>\n      <td>88333.0</td>\n      <td>9202.0</td>\n      <td>4910.0</td>\n      <td>3.0</td>\n    </tr>\n  </tbody>\n</table>\n<p>76272 rows × 14 columns</p>\n</div>"
          },
          "metadata": {}
        }
      ],
      "execution_count": 68
    },
    {
      "id": "4638aa10-6b68-42f6-8d1d-92c70fdc89e5",
      "cell_type": "code",
      "source": "exercicio2[exercicio2['CD_UOR']==4918]",
      "metadata": {
        "trusted": true
      },
      "outputs": [
        {
          "execution_count": 74,
          "output_type": "execute_result",
          "data": {
            "text/plain": "      CD_UOR            NM_UOR_RDZ      SG_UOR DT_INC_VLD  CD_ITEM_AQTT_UOR  \\\n4917    4918  VIFIN                 VIFIN      1995-11-10                16   \n\n      CD_TIP_UOR  CD_DEPE_UOR  NR_ORD_DEPE_SBDD  CD_IOR CD_EST_UOR  \n4917           4         8063                 0       1          2  ",
            "text/html": "<div>\n<style scoped>\n    .dataframe tbody tr th:only-of-type {\n        vertical-align: middle;\n    }\n\n    .dataframe tbody tr th {\n        vertical-align: top;\n    }\n\n    .dataframe thead th {\n        text-align: right;\n    }\n</style>\n<table border=\"1\" class=\"dataframe\">\n  <thead>\n    <tr style=\"text-align: right;\">\n      <th></th>\n      <th>CD_UOR</th>\n      <th>NM_UOR_RDZ</th>\n      <th>SG_UOR</th>\n      <th>DT_INC_VLD</th>\n      <th>CD_ITEM_AQTT_UOR</th>\n      <th>CD_TIP_UOR</th>\n      <th>CD_DEPE_UOR</th>\n      <th>NR_ORD_DEPE_SBDD</th>\n      <th>CD_IOR</th>\n      <th>CD_EST_UOR</th>\n    </tr>\n  </thead>\n  <tbody>\n    <tr>\n      <th>4917</th>\n      <td>4918</td>\n      <td>VIFIN</td>\n      <td>VIFIN</td>\n      <td>1995-11-10</td>\n      <td>16</td>\n      <td>4</td>\n      <td>8063</td>\n      <td>0</td>\n      <td>1</td>\n      <td>2</td>\n    </tr>\n  </tbody>\n</table>\n</div>"
          },
          "metadata": {}
        }
      ],
      "execution_count": 74
    },
    {
      "id": "87219f3a-dc7c-4038-aab2-b804b093da3a",
      "cell_type": "code",
      "source": "teste['CD_TIP_VCL'].isnull().sum()",
      "metadata": {
        "trusted": true
      },
      "outputs": [
        {
          "execution_count": 62,
          "output_type": "execute_result",
          "data": {
            "text/plain": "42530"
          },
          "metadata": {}
        }
      ],
      "execution_count": 62
    },
    {
      "id": "7e715bbd-95b2-40a6-99d4-07a12a0b7f86",
      "cell_type": "code",
      "source": "teste[teste['CD_TIP_VCL']==1220.0]",
      "metadata": {
        "trusted": true
      },
      "outputs": [
        {
          "execution_count": 69,
          "output_type": "execute_result",
          "data": {
            "text/plain": "       CD_UOR            NM_UOR_RDZ      SG_UOR DT_INC_VLD  CD_ITEM_AQTT_UOR  \\\n3565     5108  DIRCO-CONTROLADORIA   DIRCO      1995-10-09                 2   \n3653     5114  DICRE/RISCO CREDITO   DICRE      1996-03-29                 3   \n3708     5115  DIFIN-FINANCAS        DIFIN      1996-03-29                 2   \n3750     5116  DISEC-SUP INFR PATR   DISEC      1996-03-29                 2   \n3786     5117  DIPES-CULT E PESSOAS  DIPES      1996-03-29                 2   \n...       ...                   ...         ...        ...               ...   \n76120   88171  DIOPE/EQ.INFORMACOES             2019-02-07                33   \n76156   88243  DIOPE/EQ. IND RESULT             2019-02-06                33   \n76190   88328  DIOPE/ATAC COMEX MPE             2019-10-07                 5   \n76221   88331  USI/GESAE                        2022-07-05                 5   \n76255   88333  DITEC/PROC. DE TI                2024-05-03                 5   \n\n       CD_TIP_UOR  CD_DEPE_UOR  NR_ORD_DEPE_SBDD  CD_IOR CD_EST_UOR  \\\n3565            4         8550                 0       1          2   \n3653            4         8556                 0       1          2   \n3708            4         8557                 0       1          2   \n3750            4         8558                 0       1          2   \n3786            4         8559                 0       1          2   \n...           ...          ...               ...     ...        ...   \n76120           4         9600                97       1          2   \n76156           4         9600                98       1          2   \n76190           4         9600                99       1          2   \n76221           4         8896                99       1          2   \n76255           4         9903                99       1          2   \n\n       CD_UOR_VCLD  CD_TIP_VCL  CD_UOR_VCLR  NR_ITVL_NVL_HRQO  \n3565        5108.0      1220.0       4918.0               1.0  \n3653        5114.0      1220.0       6134.0               2.0  \n3708        5115.0      1220.0       4918.0               1.0  \n3750        5116.0      1220.0       4911.0               1.0  \n3786        5117.0      1220.0       4911.0               1.0  \n...            ...         ...          ...               ...  \n76120      88171.0      1220.0       4911.0               4.0  \n76156      88243.0      1220.0       4911.0               4.0  \n76190      88328.0      1220.0       4911.0               3.0  \n76221      88331.0      1220.0       6134.0               3.0  \n76255      88333.0      1220.0       4915.0               2.0  \n\n[1109 rows x 14 columns]",
            "text/html": "<div>\n<style scoped>\n    .dataframe tbody tr th:only-of-type {\n        vertical-align: middle;\n    }\n\n    .dataframe tbody tr th {\n        vertical-align: top;\n    }\n\n    .dataframe thead th {\n        text-align: right;\n    }\n</style>\n<table border=\"1\" class=\"dataframe\">\n  <thead>\n    <tr style=\"text-align: right;\">\n      <th></th>\n      <th>CD_UOR</th>\n      <th>NM_UOR_RDZ</th>\n      <th>SG_UOR</th>\n      <th>DT_INC_VLD</th>\n      <th>CD_ITEM_AQTT_UOR</th>\n      <th>CD_TIP_UOR</th>\n      <th>CD_DEPE_UOR</th>\n      <th>NR_ORD_DEPE_SBDD</th>\n      <th>CD_IOR</th>\n      <th>CD_EST_UOR</th>\n      <th>CD_UOR_VCLD</th>\n      <th>CD_TIP_VCL</th>\n      <th>CD_UOR_VCLR</th>\n      <th>NR_ITVL_NVL_HRQO</th>\n    </tr>\n  </thead>\n  <tbody>\n    <tr>\n      <th>3565</th>\n      <td>5108</td>\n      <td>DIRCO-CONTROLADORIA</td>\n      <td>DIRCO</td>\n      <td>1995-10-09</td>\n      <td>2</td>\n      <td>4</td>\n      <td>8550</td>\n      <td>0</td>\n      <td>1</td>\n      <td>2</td>\n      <td>5108.0</td>\n      <td>1220.0</td>\n      <td>4918.0</td>\n      <td>1.0</td>\n    </tr>\n    <tr>\n      <th>3653</th>\n      <td>5114</td>\n      <td>DICRE/RISCO CREDITO</td>\n      <td>DICRE</td>\n      <td>1996-03-29</td>\n      <td>3</td>\n      <td>4</td>\n      <td>8556</td>\n      <td>0</td>\n      <td>1</td>\n      <td>2</td>\n      <td>5114.0</td>\n      <td>1220.0</td>\n      <td>6134.0</td>\n      <td>2.0</td>\n    </tr>\n    <tr>\n      <th>3708</th>\n      <td>5115</td>\n      <td>DIFIN-FINANCAS</td>\n      <td>DIFIN</td>\n      <td>1996-03-29</td>\n      <td>2</td>\n      <td>4</td>\n      <td>8557</td>\n      <td>0</td>\n      <td>1</td>\n      <td>2</td>\n      <td>5115.0</td>\n      <td>1220.0</td>\n      <td>4918.0</td>\n      <td>1.0</td>\n    </tr>\n    <tr>\n      <th>3750</th>\n      <td>5116</td>\n      <td>DISEC-SUP INFR PATR</td>\n      <td>DISEC</td>\n      <td>1996-03-29</td>\n      <td>2</td>\n      <td>4</td>\n      <td>8558</td>\n      <td>0</td>\n      <td>1</td>\n      <td>2</td>\n      <td>5116.0</td>\n      <td>1220.0</td>\n      <td>4911.0</td>\n      <td>1.0</td>\n    </tr>\n    <tr>\n      <th>3786</th>\n      <td>5117</td>\n      <td>DIPES-CULT E PESSOAS</td>\n      <td>DIPES</td>\n      <td>1996-03-29</td>\n      <td>2</td>\n      <td>4</td>\n      <td>8559</td>\n      <td>0</td>\n      <td>1</td>\n      <td>2</td>\n      <td>5117.0</td>\n      <td>1220.0</td>\n      <td>4911.0</td>\n      <td>1.0</td>\n    </tr>\n    <tr>\n      <th>...</th>\n      <td>...</td>\n      <td>...</td>\n      <td>...</td>\n      <td>...</td>\n      <td>...</td>\n      <td>...</td>\n      <td>...</td>\n      <td>...</td>\n      <td>...</td>\n      <td>...</td>\n      <td>...</td>\n      <td>...</td>\n      <td>...</td>\n      <td>...</td>\n    </tr>\n    <tr>\n      <th>76120</th>\n      <td>88171</td>\n      <td>DIOPE/EQ.INFORMACOES</td>\n      <td></td>\n      <td>2019-02-07</td>\n      <td>33</td>\n      <td>4</td>\n      <td>9600</td>\n      <td>97</td>\n      <td>1</td>\n      <td>2</td>\n      <td>88171.0</td>\n      <td>1220.0</td>\n      <td>4911.0</td>\n      <td>4.0</td>\n    </tr>\n    <tr>\n      <th>76156</th>\n      <td>88243</td>\n      <td>DIOPE/EQ. IND RESULT</td>\n      <td></td>\n      <td>2019-02-06</td>\n      <td>33</td>\n      <td>4</td>\n      <td>9600</td>\n      <td>98</td>\n      <td>1</td>\n      <td>2</td>\n      <td>88243.0</td>\n      <td>1220.0</td>\n      <td>4911.0</td>\n      <td>4.0</td>\n    </tr>\n    <tr>\n      <th>76190</th>\n      <td>88328</td>\n      <td>DIOPE/ATAC COMEX MPE</td>\n      <td></td>\n      <td>2019-10-07</td>\n      <td>5</td>\n      <td>4</td>\n      <td>9600</td>\n      <td>99</td>\n      <td>1</td>\n      <td>2</td>\n      <td>88328.0</td>\n      <td>1220.0</td>\n      <td>4911.0</td>\n      <td>3.0</td>\n    </tr>\n    <tr>\n      <th>76221</th>\n      <td>88331</td>\n      <td>USI/GESAE</td>\n      <td></td>\n      <td>2022-07-05</td>\n      <td>5</td>\n      <td>4</td>\n      <td>8896</td>\n      <td>99</td>\n      <td>1</td>\n      <td>2</td>\n      <td>88331.0</td>\n      <td>1220.0</td>\n      <td>6134.0</td>\n      <td>3.0</td>\n    </tr>\n    <tr>\n      <th>76255</th>\n      <td>88333</td>\n      <td>DITEC/PROC. DE TI</td>\n      <td></td>\n      <td>2024-05-03</td>\n      <td>5</td>\n      <td>4</td>\n      <td>9903</td>\n      <td>99</td>\n      <td>1</td>\n      <td>2</td>\n      <td>88333.0</td>\n      <td>1220.0</td>\n      <td>4915.0</td>\n      <td>2.0</td>\n    </tr>\n  </tbody>\n</table>\n<p>1109 rows × 14 columns</p>\n</div>"
          },
          "metadata": {}
        }
      ],
      "execution_count": 69
    },
    {
      "id": "0de8000f-a2c3-4754-b75f-2bc58f69a8e7",
      "cell_type": "code",
      "source": "vinculo_uor_vice_pres = vinculo_uor[vinculo_uor['CD_TIP_VCL'] == 1220]\nvinculo_uor_vice_pres.info()",
      "metadata": {
        "trusted": true
      },
      "outputs": [
        {
          "name": "stdout",
          "text": "<class 'pandas.core.frame.DataFrame'>\nInt64Index: 1308 entries, 9 to 40846\nData columns (total 4 columns):\n #   Column            Non-Null Count  Dtype  \n---  ------            --------------  -----  \n 0   CD_UOR_VCLD       1308 non-null   int64  \n 1   CD_TIP_VCL        1308 non-null   int64  \n 2   CD_UOR_VCLR       1308 non-null   int64  \n 3   NR_ITVL_NVL_HRQO  1308 non-null   float64\ndtypes: float64(1), int64(3)\nmemory usage: 51.1 KB\n",
          "output_type": "stream"
        }
      ],
      "execution_count": 47
    },
    {
      "id": "0d01e13e-b5ef-42eb-92e3-d27820db3a18",
      "cell_type": "code",
      "source": "tipo_vinculo['NM_TIP_VCL'] = tipo_vinculo['NM_TIP_VCL'].str.rstrip()",
      "metadata": {
        "trusted": true
      },
      "outputs": [],
      "execution_count": 10
    },
    {
      "id": "90bb2b4a-8319-4a43-8599-31876cf3bffb",
      "cell_type": "code",
      "source": "tipo_vinculo[tipo_vinculo['NM_TIP_VCL'] == 'VICE-PRESIDENCIA']",
      "metadata": {
        "trusted": true
      },
      "outputs": [
        {
          "execution_count": 11,
          "output_type": "execute_result",
          "data": {
            "text/plain": "    CD_TIP_VCL  CD_NTZ_TIP_VCL  CD_CTGR_TIP_VCL  CD_IOR        NM_TIP_VCL  \\\n21        1220               2                9       1  VICE-PRESIDENCIA   \n\n                                       TX_DCR_TIP_VCL  \n21                                                ...  ",
            "text/html": "<div>\n<style scoped>\n    .dataframe tbody tr th:only-of-type {\n        vertical-align: middle;\n    }\n\n    .dataframe tbody tr th {\n        vertical-align: top;\n    }\n\n    .dataframe thead th {\n        text-align: right;\n    }\n</style>\n<table border=\"1\" class=\"dataframe\">\n  <thead>\n    <tr style=\"text-align: right;\">\n      <th></th>\n      <th>CD_TIP_VCL</th>\n      <th>CD_NTZ_TIP_VCL</th>\n      <th>CD_CTGR_TIP_VCL</th>\n      <th>CD_IOR</th>\n      <th>NM_TIP_VCL</th>\n      <th>TX_DCR_TIP_VCL</th>\n    </tr>\n  </thead>\n  <tbody>\n    <tr>\n      <th>21</th>\n      <td>1220</td>\n      <td>2</td>\n      <td>9</td>\n      <td>1</td>\n      <td>VICE-PRESIDENCIA</td>\n      <td>...</td>\n    </tr>\n  </tbody>\n</table>\n</div>"
          },
          "metadata": {}
        }
      ],
      "execution_count": 11
    },
    {
      "id": "8c58513e-9c20-4618-aa1f-81117ec2d177",
      "cell_type": "code",
      "source": "",
      "metadata": {
        "trusted": true
      },
      "outputs": [],
      "execution_count": null
    },
    {
      "id": "fd2aa4df-e4f6-414d-8a58-8e9c70431e27",
      "cell_type": "markdown",
      "source": "# Exercício 8 - Verificação do cumprimento do indicador - Parte 1\n\n<b>Nível de dificuldade (1 a 5):</b> 4\n\n<b>Requisitos:</b> exercícios 4 e 6\n\nCriar um DataFrame Pandas chamado <b>exercicio8</b> contendo as informações consolidadas de todos os funcionários dos prefixos alvo da análise, conforme abaixo:\n\n||Nome Lógico|Nome Físico|Formato|Descrição|Aceita Nulos|Tabela Origem|Atributo Origem|\n|---|---|---|---|---|---|---|---|\n|1|Código da Matrícula do Funcionário|?|Int64|Código da matrícula (F) do funcionário. |N|?|?|\n|2|Código da Unidade Organizacional de Localização|?|Int64|Código da UOR de localização do funcionário.|N|?|?|\n|3|Quantidade Total de Cursos|?|Int64|Quantidade total de cursos realizados pelo funcionário no ano atual|N|?|?|\n|4|Quantidade Total de Cursos da Trilha|?|Int64|Quantidade total de cursos da Trilha Estratégica realizados pelo funcionário até o momento|N|?|?|\n|5|Quantidade Total de Horas no Primeiro Semestre|?|Int64|Quantidade total de horas de treinamento realizadas pelo funcionário no primeiro semestre do ano atual|N|?|?|\n|6|Quantidade Total de Horas da Trilha no Primeiro Semestre|?|Int64|Quantidade total de horas de treinamento da Trilha Estratégica realizadas pelo funcionário no primeiro semestre do ano atual|N|?|?|\n|7|Quantidade Total de Horas no Segundo Semestre|?|Int64|Quantidade total de horas de treinamento realizadas pelo funcionário no segundo semestre do ano atual|N|?|?|\n|8|Quantidade Total de Horas da Trilha no Segundo Semestre|?|Int64|Quantidade total de horas de treinamento da Trilha Estratégica realizadas pelo funcionário no segundo semestre do ano atual|N|?|?|\n|9|Indicador de Cumprimento Total da Trilha no Primeiro Semestre|?|object|Indicador que sinaliza se o funcionário realizou todos os cursos da Trilha Estratégica até o primeiro semestre. Possíveis valores: \"S\" ou \"N\".|N|?|?|\n|10|Indicador de Cumprimento Total da Trilha no Segundo Semestre|?|object|Indicador que sinaliza se o funcionário realizou todos os cursos da Trilha Estratégica até o semestre. Possíveis valores: \"S\" ou \"N\".|N|?|?|\n\n<b>Regra1:</b> ignorar os cursos para os quais não houver informação sobre a Carga Horária.\n\n<b>Regra2:</b> atentar para a ocorrência de registros duplicados.\n\n<b>Dica:</b> verifique os prefixos alvo da análise na descrição do desafio.",
      "metadata": {}
    },
    {
      "id": "87ec1a4d-a839-4ad7-96b4-2b74da023076",
      "cell_type": "code",
      "source": "",
      "metadata": {},
      "outputs": [],
      "execution_count": null
    },
    {
      "id": "57328271-0084-41ec-be62-31c5829c5de3",
      "cell_type": "code",
      "source": "",
      "metadata": {},
      "outputs": [],
      "execution_count": null
    },
    {
      "id": "ef476112-f7fb-41ba-8ccf-3c48b302e70a",
      "cell_type": "code",
      "source": "",
      "metadata": {},
      "outputs": [],
      "execution_count": null
    },
    {
      "id": "372d2207-0b07-49d7-be38-6b02fd0cbf01",
      "cell_type": "markdown",
      "source": "# Exercício 9 - Verificação do cumprimento do indicador - Parte 2\n\n<b>Nível de dificuldade (1 a 5):</b> 5\n\n<b>Requisitos:</b> exercício 8\n\nCriar um DataFrame Pandas chamado <b>exercicio9</b> contendo todas as informações do exercício 8 mais os atributos relacionados abaixo:\n\n||Nome Lógico|Nome Físico|Formato|Descrição|Aceita Nulos|Tabela Origem|Atributo Origem|\n|---|---|---|---|---|---|---|---|\n|10|Indicador de Funcionário Avaliável no Primeiro Semestre|?|object|Indicador que sinaliza se o funcionário é avaliável no primeiro semestre.|N|?|?|\n|11|Indicador de Funcionário Avaliável no Segundo Semestre|?|object|Indicador que sinaliza se o funcionário é avaliável no segundo semestre.|N|?|?|\n\n<b>Regra 1:</b> os funcionários que atenderem às situações abaixo elencadas serão considerados \"Não avaliáveis\"\n- Permanecerem por mais de 90 dias em situação diferente de 100-Força de Trabalho Real no semestre.\n- Atuarem como colaboradores (Disponibilidade ou Cessão) ou adidos por mais de 90 dias no semestre.\n- Cujo total de dias em situação diferente de 100-Força de Trabalho Real somado ao total de dias em colaboração (Disponibilidade ou Cessão) for maior que 90 dias.\n- Estiverem em situação de colaboração ou adição no encerramento da apuração semestral (fechamento do semestre: 30/06/2024 ou 31/12/2024)\n- Funcionários empossados no BB há menos de 90 dias no encerramento da apuração semestral.\n\n<b>Regra 2:</b> para fins de apuração do indicador de Capacitação Estratégica, considere:\n- como colaboração os funcis que apresentarem situação \"DISP\" ou \"ADIDOS\" ou \"CEDIDOS\", exceto folga.\n- como situação diferente de 100-Força de Trabalho Real apenas as situações que contemplarem:\n  - Licença Saúde (LS)\n  - Licença Interesse\n  - Licença Maternidade\n  - Licença Paternidade\n  - Nascimento de Filho - Pai\n  - Licença para assistência a pessoa enferna da família (LIC.P/AS.PES.ENF.FAM-70% PR)",
      "metadata": {}
    },
    {
      "id": "7b4418c5-c72a-4fd1-939c-49fb640a8aba",
      "cell_type": "code",
      "source": "",
      "metadata": {},
      "outputs": [],
      "execution_count": null
    },
    {
      "id": "9cecbf30-a1cf-4d39-a623-78aaa4e2e218",
      "cell_type": "code",
      "source": "",
      "metadata": {},
      "outputs": [],
      "execution_count": null
    },
    {
      "id": "04a91a1e-591c-4f82-b8e3-4ba07fd06ac7",
      "cell_type": "code",
      "source": "",
      "metadata": {},
      "outputs": [],
      "execution_count": null
    },
    {
      "id": "fcf1e379-e0e7-4d8c-9a3d-aa66f6fc1260",
      "cell_type": "markdown",
      "source": "# Exercício 10 - Cumprimento do indicador por prefixo\n\n<b>Nível de dificuldade (1 a 5):</b> 5\n\n<b>Requisitos:</b> exercício 9\n\n<b><<< Parte 1 >>></b>\n\nCriar um DataFrame Pandas chamado <b>exercicio10</b> contendo a consolidação das informações das UORs:\n\n||Nome Lógico|Nome Físico|Formato|Descrição|Aceita Nulos|Tabela Origem|Atributo Origem|\n|---|---|---|---|---|---|---|---|\n|1|Código da Dependência da Unidade Organizacional|?|Int64|Código identificador de Dependências de Instituições Organizacionais. No BB atualmente é utilizado os domínios entre 1 e 9999.|N|?|?|\n|2|Código da Unidade Organizacional|?|Int64|Código identificador de Unidade Organizacional (UOR) do conglomerado Banco do Brasil (no Brasil e Exterior) ou UOR externas que o BB tenha algum tipo de relacionamento ou interesse em identificá-las.|N|?|?|\n|3|Sigla da Unidade Organizacional|?|object|Reunião das letras iniciais dos vocábulos fundamentais de uma denominação ou título, sem articulação prosódica, constituindo meras abreviaturas. Ex.: \"DITEC\", \"GBASE\", \"DIREO\", \"PRESI\", etc.|N|?|?|\n|4|Nome da Unidade Organizacional Reduzido|?|object|Nome reduzido da Unidade Organizacional.|N|?|?|\n|5|Código da Dependência da Vice-Presidência|?|Int64|Código identificador da Dependência da Vice-Presidência jurisdicionante da UOR.|N|?|?|\n|6|Sigla da Vice-Presidência|?|object|Sigla da Vice-Presidência jurisdicionante da UOR.|N|?|?\n|7|Quantidade Total de Funcionários da Unidade Organizacional|?|Int64|Quantidade total de funcionários localizados na UOR|N|?|?|\n|8|Indicador de Unidade Organizacional Alvo da Análise|?|object|Indica se a UOR é alvo da análise. Possíveis valores: \"S\" ou \"N\". |N|?|?|\n|9|Índice de Atingimento do Indicador no Primeiro Semestre|?|float64|Indicativo do percentual de atingimento do indicador no primeiro semestre, caso a UOR seja alvo da análise. Varia de 0 a 1, com duas casas decimais.|S|?|?|\n|10|Índice de Atingimento do Indicador no Segundo Semestre|?|float64|Indicativo do percentual de atingimento do indicador no segundo semestre, caso a UOR seja alvo da análise. Varia de 0 a 1, com duas casas decimais.|S|?|?|\n\n<b>Regras gerais:</b>\n    \n- deverão ser listadas apenas as UORs que possuem Vice-Presidência vinculada.\n\n- verifique os prefixos alvo da análise na descrição do desafio.\n\nConsidere as regras abaixo para apuração do cumprimento do indicador para cada um dos prefixos alvo da análise:\n\n<b>Regras de apuração individual</b>: o indicador será considerado cumprido para os funcionários que:\n- completarem o mínimo de 20 horas total de cursos, sendo no mínimo 10h de treinamentos da Trilha Estratégica, realizados dentro do semestre de apuração\n- tiverem cumprido toda a Trilha Estratégica na data de apuração, desde que tenha cumprido o mínimo de 20 horas total no semestre de apuração\n\n<b>Regra de apuração por prefixo</b>: o indicador será considerado cumprido para os prefixos que tiverem 90% do público avaliável com o indicador cumprido no semestre.\n\n<b><<< Parte 2 >>></b>\n\nConsiderando as regras de apuração acima, responda às perguntas abaixo tomando por base a apuração do primeiro semestre:\n\n    a) quais os prefixos que cumpriram o indicador?\n\n    b) qual o prefixo com menor índice de cumprimento do indicador?\n\n    c) qual o prefixo com o maior índice de cumprimento do indicador?\n\n    d) qual o prefixo com o menor índice de funcionários não avaliáveis?\n\n    e) qual o maior índice de funcionários não avaliáveis dentre os observados nos prefixos avaliados?\n\nAo final do exercício, deverá ser criada uma variável para cada um dos itens acima, sendo o nome e o tipo delas conforme abaixo detalhado:\n\n|Item|Nome da variável|Tipo de objeto|\n|---|---|---|\n|a)|exercicio10a|variável do tipo list, itens do tipo int|\n|b)|exercicio10b|int|\n|c)|exercicio10c|int|\n|d)|exercicio10d|int|\n|e)|exercicio10e|float (2casas decimais)|\n\n<b>Regra 1:</b> utilize a função round() para eventuais arredondamentos.\n\n<b>Regra 2:</b> em caso de empate, o desempate será pela maior quantidade de funcionários avaliáveis no prefixo.",
      "metadata": {}
    },
    {
      "id": "d5a2ec03-f224-43d8-a73a-b778bed453f5",
      "cell_type": "code",
      "source": "",
      "metadata": {},
      "outputs": [],
      "execution_count": null
    },
    {
      "id": "15d6a03b-5908-4bc5-9197-051c54bc81ca",
      "cell_type": "code",
      "source": "",
      "metadata": {},
      "outputs": [],
      "execution_count": null
    },
    {
      "id": "2cfe3d1d-f069-48c8-b7b4-1a899723c8e3",
      "cell_type": "code",
      "source": "",
      "metadata": {},
      "outputs": [],
      "execution_count": null
    },
    {
      "id": "c4755e98-adca-453c-b18a-009ea735f02a",
      "cell_type": "markdown",
      "source": "# Boletim de soluções",
      "metadata": {}
    },
    {
      "id": "c440f300-e97f-413c-82e0-c27fd9d378cd",
      "cell_type": "code",
      "source": "# importar bibliotecas para geração dos artefatos\nimport pickle",
      "metadata": {
        "trusted": true
      },
      "outputs": [],
      "execution_count": 24
    },
    {
      "id": "07852ba0-8f84-45a2-b8c0-9b846374fed3",
      "cell_type": "code",
      "source": "# Favor não alterar esta célula\n# verificar a existência das variáveis e gerar artefatos para verificação\nif 'exercicio1' in globals():\n    print('DataFrame exercicio1 localizado. Ele poderá ser enviado para validação.')\n    with open(f'{chaveF}_exercicio1.pkl','wb') as f:\n        pickle.dump(exercicio1, f)\nelse:\n    print('O exercício 1 não tem condições de ser avaliado.')\n\nif 'exercicio2' in globals():\n    print('DataFrame exercicio2 localizado. Ele poderá ser enviado para validação.')\n    with open(f'{chaveF}_exercicio2.pkl','wb') as f:\n        pickle.dump(exercicio2, f)\nelse:\n    print('O exercício 2 não tem condições de ser avaliado.')\n    \nif 'exercicio3' in globals():\n    print('DataFrame exercicio3 localizado. Ele poderá ser enviado para validação.')\n    with open(f'{chaveF}_exercicio3.pkl','wb') as f:\n        pickle.dump(exercicio3, f)\nelse:\n    print('O exercício 3 não tem condições de ser avaliado.')\n\nif 'exercicio4' in globals():\n    print('DataFrame exercicio4 localizado. Ele poderá ser enviado para validação.')\n    with open(f'{chaveF}_exercicio4.pkl','wb') as f:\n        pickle.dump(exercicio4, f)\nelse:\n    print('O exercício 4 não tem condições de ser avaliado.')\n\nif 'exercicio5' in globals():\n    print('DataFrame exercicio5 localizado. Ele poderá ser enviado para validação.')\n    with open(f'{chaveF}_exercicio5.pkl','wb') as f:\n        pickle.dump(exercicio5, f)\nelse:\n    print('O exercício 5 não tem condições de ser avaliado.')\n    \nif 'exercicio6' in globals():\n    print('DataFrame exercicio6 localizado. Ele poderá ser enviado para validação.')\n    with open(f'{chaveF}_exercicio6.pkl','wb') as f:\n        pickle.dump(exercicio6, f)\nelse:\n    print('O exercício 6 não tem condições de ser avaliado.')\n\nif 'exercicio7' in globals():\n    print('DataFrame exercicio7 localizado. Ele poderá ser enviado para validação.')\n    with open(f'{chaveF}exercicio7.pkl','wb') as f:\n        pickle.dump(exercicio7, f)\nelse:\n    print('O exercício 7 não tem condições de ser avaliado.')\n\nif 'exercicio8' in globals():\n    print('DataFrame exercicio8 localizado. Ele poderá ser enviado para validação.')\n    with open(f'{chaveF}exercicio8.pkl','wb') as f:\n        pickle.dump(exercicio8, f)\nelse:\n    print('O exercício 8 não tem condições de ser avaliado.')\n\nif 'exercicio9' in globals():\n    print('DataFrame exercicio9 localizado. Ele poderá ser enviado para validação.')\n    with open(f'{chaveF}exercicio9.pkl','wb') as f:\n        pickle.dump(exercicio9, f)\nelse:\n    print('O exercício 9 não tem condições de ser avaliado.')\n\n\nexercicio10_variaveis = {}\n\nexercicio10_variaveis['variavel'] = []\nexercicio10_variaveis['valor'] = []\nif 'exercicio10a' in globals():\n    exercicio10_variaveis['variavel'].append('exercicio10a')\n    exercicio10_variaveis['valor'].append(exercicio10a)\nif 'exercicio10b' in globals():\n    exercicio10_variaveis['variavel'].append('exercicio10b')\n    exercicio10_variaveis['valor'].append(exercicio10b)\nif 'exercicio10b' in globals():\n    exercicio10_variaveis['variavel'].append('exercicio10c')\n    exercicio10_variaveis['valor'].append(exercicio10c)\nif 'exercicio10d' in globals():\n    exercicio10_variaveis['variavel'].append('exercicio10d')\n    exercicio10_variaveis['valor'].append(exercicio10d)\nif 'exercicio10e' in globals():\n    exercicio10_variaveis['variavel'].append('exercicio10e')\n    exercicio10_variaveis['valor'].append(exercicio10e)\n\nexercicio10_variaveis = pd.DataFrame(exercicio10_variaveis)\nif exercicio10_variaveis.shape[0] == 5 and 'exercicio10' in globals():\n    print('DataFrame exercicio10 localizado. Ele poderá ser enviado para validação.')\n    print('Variáveis exercicio10a, exercicio10b, exercicio10c, exercicio10d e exercicio10e localizadas. Elas poderão ser enviadas para validação.')\n    exercicio10_variaveis.to_csv(f'{chaveF}_exercicio10_variaveis.csv', header=True, sep=',', index=False)\n    with open(f'{chaveF}exercicio10.pkl','wb') as f:\n        pickle.dump(exercicio10, f)\n\nelse:\n    print('O exercício 10 não tem condições de ser avaliado.')",
      "metadata": {
        "trusted": true
      },
      "outputs": [
        {
          "name": "stdout",
          "text": "DataFrame exercicio1 localizado. Ele poderá ser enviado para validação.\nDataFrame exercicio2 localizado. Ele poderá ser enviado para validação.\nDataFrame exercicio3 localizado. Ele poderá ser enviado para validação.\nDataFrame exercicio4 localizado. Ele poderá ser enviado para validação.\nDataFrame exercicio5 localizado. Ele poderá ser enviado para validação.\nDataFrame exercicio6 localizado. Ele poderá ser enviado para validação.\n",
          "output_type": "stream"
        }
      ],
      "execution_count": null
    },
    {
      "id": "39f3c265-c249-4803-b508-18a58875a28a",
      "cell_type": "code",
      "source": "",
      "metadata": {},
      "outputs": [],
      "execution_count": null
    }
  ]
}